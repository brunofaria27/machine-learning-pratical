{
  "nbformat": 4,
  "nbformat_minor": 0,
  "metadata": {
    "colab": {
      "provenance": []
    },
    "kernelspec": {
      "name": "python3",
      "display_name": "Python 3"
    },
    "language_info": {
      "name": "python"
    }
  },
  "cells": [
    {
      "cell_type": "code",
      "execution_count": 1,
      "metadata": {
        "id": "AZseosm3P0z0"
      },
      "outputs": [],
      "source": [
        "# Importando bibliotecas\n",
        "import pandas as pd\n",
        "import numpy as np\n",
        "import matplotlib.pyplot as plt\n",
        "import seaborn as sns\n",
        "\n",
        "from sklearn.preprocessing import LabelEncoder\n",
        "from sklearn.neighbors import KNeighborsClassifier\n",
        "from sklearn.ensemble import RandomForestClassifier \n",
        "from sklearn.model_selection import train_test_split\n",
        "from sklearn.metrics import recall_score, precision_score, accuracy_score, f1_score\n",
        "from sklearn.metrics import classification_report\n",
        "from sklearn.model_selection import cross_val_score\n",
        "from sklearn.model_selection import cross_validate\n",
        "from sklearn.preprocessing import MinMaxScaler\n",
        "\n",
        "import warnings\n",
        "warnings.filterwarnings('ignore')"
      ]
    },
    {
      "cell_type": "code",
      "source": [
        "# Ler dados do DataSet\n",
        "csv_dir = \"/content/sample_data/csgo_round_snapshots.csv\"\n",
        "data = pd.read_csv(csv_dir, delimiter=\",\")"
      ],
      "metadata": {
        "id": "NfgK89WpRfJi"
      },
      "execution_count": 2,
      "outputs": []
    },
    {
      "cell_type": "code",
      "source": [
        "data.head()"
      ],
      "metadata": {
        "id": "kBEDhjf6RmE-",
        "colab": {
          "base_uri": "https://localhost:8080/",
          "height": 300
        },
        "outputId": "08eb62e7-c7a6-4f0e-a8d0-ac0997c3cc0a"
      },
      "execution_count": 3,
      "outputs": [
        {
          "output_type": "execute_result",
          "data": {
            "text/plain": [
              "   time_left  ct_score  t_score       map  bomb_planted  ct_health  t_health  \\\n",
              "0     175.00       0.0      0.0  de_dust2         False      500.0     500.0   \n",
              "1     156.03       0.0      0.0  de_dust2         False      500.0     500.0   \n",
              "2      96.03       0.0      0.0  de_dust2         False      391.0     400.0   \n",
              "3      76.03       0.0      0.0  de_dust2         False      391.0     400.0   \n",
              "4     174.97       1.0      0.0  de_dust2         False      500.0     500.0   \n",
              "\n",
              "   ct_armor  t_armor  ct_money  ...  t_grenade_flashbang  \\\n",
              "0       0.0      0.0    4000.0  ...                  0.0   \n",
              "1     400.0    300.0     600.0  ...                  0.0   \n",
              "2     294.0    200.0     750.0  ...                  0.0   \n",
              "3     294.0    200.0     750.0  ...                  0.0   \n",
              "4     192.0      0.0   18350.0  ...                  0.0   \n",
              "\n",
              "   ct_grenade_smokegrenade  t_grenade_smokegrenade  \\\n",
              "0                      0.0                     0.0   \n",
              "1                      0.0                     2.0   \n",
              "2                      0.0                     2.0   \n",
              "3                      0.0                     0.0   \n",
              "4                      0.0                     0.0   \n",
              "\n",
              "   ct_grenade_incendiarygrenade  t_grenade_incendiarygrenade  \\\n",
              "0                           0.0                          0.0   \n",
              "1                           0.0                          0.0   \n",
              "2                           0.0                          0.0   \n",
              "3                           0.0                          0.0   \n",
              "4                           0.0                          0.0   \n",
              "\n",
              "   ct_grenade_molotovgrenade  t_grenade_molotovgrenade  \\\n",
              "0                        0.0                       0.0   \n",
              "1                        0.0                       0.0   \n",
              "2                        0.0                       0.0   \n",
              "3                        0.0                       0.0   \n",
              "4                        0.0                       0.0   \n",
              "\n",
              "   ct_grenade_decoygrenade  t_grenade_decoygrenade  round_winner  \n",
              "0                      0.0                     0.0            CT  \n",
              "1                      0.0                     0.0            CT  \n",
              "2                      0.0                     0.0            CT  \n",
              "3                      0.0                     0.0            CT  \n",
              "4                      0.0                     0.0            CT  \n",
              "\n",
              "[5 rows x 97 columns]"
            ],
            "text/html": [
              "\n",
              "  <div id=\"df-b1447868-816d-44a0-9d8c-46d36ac422e8\">\n",
              "    <div class=\"colab-df-container\">\n",
              "      <div>\n",
              "<style scoped>\n",
              "    .dataframe tbody tr th:only-of-type {\n",
              "        vertical-align: middle;\n",
              "    }\n",
              "\n",
              "    .dataframe tbody tr th {\n",
              "        vertical-align: top;\n",
              "    }\n",
              "\n",
              "    .dataframe thead th {\n",
              "        text-align: right;\n",
              "    }\n",
              "</style>\n",
              "<table border=\"1\" class=\"dataframe\">\n",
              "  <thead>\n",
              "    <tr style=\"text-align: right;\">\n",
              "      <th></th>\n",
              "      <th>time_left</th>\n",
              "      <th>ct_score</th>\n",
              "      <th>t_score</th>\n",
              "      <th>map</th>\n",
              "      <th>bomb_planted</th>\n",
              "      <th>ct_health</th>\n",
              "      <th>t_health</th>\n",
              "      <th>ct_armor</th>\n",
              "      <th>t_armor</th>\n",
              "      <th>ct_money</th>\n",
              "      <th>...</th>\n",
              "      <th>t_grenade_flashbang</th>\n",
              "      <th>ct_grenade_smokegrenade</th>\n",
              "      <th>t_grenade_smokegrenade</th>\n",
              "      <th>ct_grenade_incendiarygrenade</th>\n",
              "      <th>t_grenade_incendiarygrenade</th>\n",
              "      <th>ct_grenade_molotovgrenade</th>\n",
              "      <th>t_grenade_molotovgrenade</th>\n",
              "      <th>ct_grenade_decoygrenade</th>\n",
              "      <th>t_grenade_decoygrenade</th>\n",
              "      <th>round_winner</th>\n",
              "    </tr>\n",
              "  </thead>\n",
              "  <tbody>\n",
              "    <tr>\n",
              "      <th>0</th>\n",
              "      <td>175.00</td>\n",
              "      <td>0.0</td>\n",
              "      <td>0.0</td>\n",
              "      <td>de_dust2</td>\n",
              "      <td>False</td>\n",
              "      <td>500.0</td>\n",
              "      <td>500.0</td>\n",
              "      <td>0.0</td>\n",
              "      <td>0.0</td>\n",
              "      <td>4000.0</td>\n",
              "      <td>...</td>\n",
              "      <td>0.0</td>\n",
              "      <td>0.0</td>\n",
              "      <td>0.0</td>\n",
              "      <td>0.0</td>\n",
              "      <td>0.0</td>\n",
              "      <td>0.0</td>\n",
              "      <td>0.0</td>\n",
              "      <td>0.0</td>\n",
              "      <td>0.0</td>\n",
              "      <td>CT</td>\n",
              "    </tr>\n",
              "    <tr>\n",
              "      <th>1</th>\n",
              "      <td>156.03</td>\n",
              "      <td>0.0</td>\n",
              "      <td>0.0</td>\n",
              "      <td>de_dust2</td>\n",
              "      <td>False</td>\n",
              "      <td>500.0</td>\n",
              "      <td>500.0</td>\n",
              "      <td>400.0</td>\n",
              "      <td>300.0</td>\n",
              "      <td>600.0</td>\n",
              "      <td>...</td>\n",
              "      <td>0.0</td>\n",
              "      <td>0.0</td>\n",
              "      <td>2.0</td>\n",
              "      <td>0.0</td>\n",
              "      <td>0.0</td>\n",
              "      <td>0.0</td>\n",
              "      <td>0.0</td>\n",
              "      <td>0.0</td>\n",
              "      <td>0.0</td>\n",
              "      <td>CT</td>\n",
              "    </tr>\n",
              "    <tr>\n",
              "      <th>2</th>\n",
              "      <td>96.03</td>\n",
              "      <td>0.0</td>\n",
              "      <td>0.0</td>\n",
              "      <td>de_dust2</td>\n",
              "      <td>False</td>\n",
              "      <td>391.0</td>\n",
              "      <td>400.0</td>\n",
              "      <td>294.0</td>\n",
              "      <td>200.0</td>\n",
              "      <td>750.0</td>\n",
              "      <td>...</td>\n",
              "      <td>0.0</td>\n",
              "      <td>0.0</td>\n",
              "      <td>2.0</td>\n",
              "      <td>0.0</td>\n",
              "      <td>0.0</td>\n",
              "      <td>0.0</td>\n",
              "      <td>0.0</td>\n",
              "      <td>0.0</td>\n",
              "      <td>0.0</td>\n",
              "      <td>CT</td>\n",
              "    </tr>\n",
              "    <tr>\n",
              "      <th>3</th>\n",
              "      <td>76.03</td>\n",
              "      <td>0.0</td>\n",
              "      <td>0.0</td>\n",
              "      <td>de_dust2</td>\n",
              "      <td>False</td>\n",
              "      <td>391.0</td>\n",
              "      <td>400.0</td>\n",
              "      <td>294.0</td>\n",
              "      <td>200.0</td>\n",
              "      <td>750.0</td>\n",
              "      <td>...</td>\n",
              "      <td>0.0</td>\n",
              "      <td>0.0</td>\n",
              "      <td>0.0</td>\n",
              "      <td>0.0</td>\n",
              "      <td>0.0</td>\n",
              "      <td>0.0</td>\n",
              "      <td>0.0</td>\n",
              "      <td>0.0</td>\n",
              "      <td>0.0</td>\n",
              "      <td>CT</td>\n",
              "    </tr>\n",
              "    <tr>\n",
              "      <th>4</th>\n",
              "      <td>174.97</td>\n",
              "      <td>1.0</td>\n",
              "      <td>0.0</td>\n",
              "      <td>de_dust2</td>\n",
              "      <td>False</td>\n",
              "      <td>500.0</td>\n",
              "      <td>500.0</td>\n",
              "      <td>192.0</td>\n",
              "      <td>0.0</td>\n",
              "      <td>18350.0</td>\n",
              "      <td>...</td>\n",
              "      <td>0.0</td>\n",
              "      <td>0.0</td>\n",
              "      <td>0.0</td>\n",
              "      <td>0.0</td>\n",
              "      <td>0.0</td>\n",
              "      <td>0.0</td>\n",
              "      <td>0.0</td>\n",
              "      <td>0.0</td>\n",
              "      <td>0.0</td>\n",
              "      <td>CT</td>\n",
              "    </tr>\n",
              "  </tbody>\n",
              "</table>\n",
              "<p>5 rows × 97 columns</p>\n",
              "</div>\n",
              "      <button class=\"colab-df-convert\" onclick=\"convertToInteractive('df-b1447868-816d-44a0-9d8c-46d36ac422e8')\"\n",
              "              title=\"Convert this dataframe to an interactive table.\"\n",
              "              style=\"display:none;\">\n",
              "        \n",
              "  <svg xmlns=\"http://www.w3.org/2000/svg\" height=\"24px\"viewBox=\"0 0 24 24\"\n",
              "       width=\"24px\">\n",
              "    <path d=\"M0 0h24v24H0V0z\" fill=\"none\"/>\n",
              "    <path d=\"M18.56 5.44l.94 2.06.94-2.06 2.06-.94-2.06-.94-.94-2.06-.94 2.06-2.06.94zm-11 1L8.5 8.5l.94-2.06 2.06-.94-2.06-.94L8.5 2.5l-.94 2.06-2.06.94zm10 10l.94 2.06.94-2.06 2.06-.94-2.06-.94-.94-2.06-.94 2.06-2.06.94z\"/><path d=\"M17.41 7.96l-1.37-1.37c-.4-.4-.92-.59-1.43-.59-.52 0-1.04.2-1.43.59L10.3 9.45l-7.72 7.72c-.78.78-.78 2.05 0 2.83L4 21.41c.39.39.9.59 1.41.59.51 0 1.02-.2 1.41-.59l7.78-7.78 2.81-2.81c.8-.78.8-2.07 0-2.86zM5.41 20L4 18.59l7.72-7.72 1.47 1.35L5.41 20z\"/>\n",
              "  </svg>\n",
              "      </button>\n",
              "      \n",
              "  <style>\n",
              "    .colab-df-container {\n",
              "      display:flex;\n",
              "      flex-wrap:wrap;\n",
              "      gap: 12px;\n",
              "    }\n",
              "\n",
              "    .colab-df-convert {\n",
              "      background-color: #E8F0FE;\n",
              "      border: none;\n",
              "      border-radius: 50%;\n",
              "      cursor: pointer;\n",
              "      display: none;\n",
              "      fill: #1967D2;\n",
              "      height: 32px;\n",
              "      padding: 0 0 0 0;\n",
              "      width: 32px;\n",
              "    }\n",
              "\n",
              "    .colab-df-convert:hover {\n",
              "      background-color: #E2EBFA;\n",
              "      box-shadow: 0px 1px 2px rgba(60, 64, 67, 0.3), 0px 1px 3px 1px rgba(60, 64, 67, 0.15);\n",
              "      fill: #174EA6;\n",
              "    }\n",
              "\n",
              "    [theme=dark] .colab-df-convert {\n",
              "      background-color: #3B4455;\n",
              "      fill: #D2E3FC;\n",
              "    }\n",
              "\n",
              "    [theme=dark] .colab-df-convert:hover {\n",
              "      background-color: #434B5C;\n",
              "      box-shadow: 0px 1px 3px 1px rgba(0, 0, 0, 0.15);\n",
              "      filter: drop-shadow(0px 1px 2px rgba(0, 0, 0, 0.3));\n",
              "      fill: #FFFFFF;\n",
              "    }\n",
              "  </style>\n",
              "\n",
              "      <script>\n",
              "        const buttonEl =\n",
              "          document.querySelector('#df-b1447868-816d-44a0-9d8c-46d36ac422e8 button.colab-df-convert');\n",
              "        buttonEl.style.display =\n",
              "          google.colab.kernel.accessAllowed ? 'block' : 'none';\n",
              "\n",
              "        async function convertToInteractive(key) {\n",
              "          const element = document.querySelector('#df-b1447868-816d-44a0-9d8c-46d36ac422e8');\n",
              "          const dataTable =\n",
              "            await google.colab.kernel.invokeFunction('convertToInteractive',\n",
              "                                                     [key], {});\n",
              "          if (!dataTable) return;\n",
              "\n",
              "          const docLinkHtml = 'Like what you see? Visit the ' +\n",
              "            '<a target=\"_blank\" href=https://colab.research.google.com/notebooks/data_table.ipynb>data table notebook</a>'\n",
              "            + ' to learn more about interactive tables.';\n",
              "          element.innerHTML = '';\n",
              "          dataTable['output_type'] = 'display_data';\n",
              "          await google.colab.output.renderOutput(dataTable, element);\n",
              "          const docLink = document.createElement('div');\n",
              "          docLink.innerHTML = docLinkHtml;\n",
              "          element.appendChild(docLink);\n",
              "        }\n",
              "      </script>\n",
              "    </div>\n",
              "  </div>\n",
              "  "
            ]
          },
          "metadata": {},
          "execution_count": 3
        }
      ]
    },
    {
      "cell_type": "code",
      "source": [
        "data.shape"
      ],
      "metadata": {
        "id": "CqTyVveIUndA",
        "colab": {
          "base_uri": "https://localhost:8080/"
        },
        "outputId": "d4d36af8-0aeb-42cc-d788-0b936a595581"
      },
      "execution_count": 4,
      "outputs": [
        {
          "output_type": "execute_result",
          "data": {
            "text/plain": [
              "(122410, 97)"
            ]
          },
          "metadata": {},
          "execution_count": 4
        }
      ]
    },
    {
      "cell_type": "code",
      "source": [
        "data.describe()"
      ],
      "metadata": {
        "id": "VUzTpCE2W_Xc",
        "colab": {
          "base_uri": "https://localhost:8080/",
          "height": 394
        },
        "outputId": "f0c20cfa-57d5-4d15-89dc-a89c091a9dfd"
      },
      "execution_count": 5,
      "outputs": [
        {
          "output_type": "execute_result",
          "data": {
            "text/plain": [
              "           time_left       ct_score        t_score      ct_health  \\\n",
              "count  122410.000000  122410.000000  122410.000000  122410.000000   \n",
              "mean       97.886922       6.709239       6.780435     412.106568   \n",
              "std        54.465238       4.790362       4.823543     132.293290   \n",
              "min         0.010000       0.000000       0.000000       0.000000   \n",
              "25%        54.920000       3.000000       3.000000     350.000000   \n",
              "50%        94.910000       6.000000       6.000000     500.000000   \n",
              "75%       166.917500      10.000000      10.000000     500.000000   \n",
              "max       175.000000      32.000000      33.000000     500.000000   \n",
              "\n",
              "            t_health       ct_armor        t_armor       ct_money  \\\n",
              "count  122410.000000  122410.000000  122410.000000  122410.000000   \n",
              "mean      402.714500     314.142121     298.444670    9789.023773   \n",
              "std       139.919033     171.029736     174.576545   11215.042286   \n",
              "min         0.000000       0.000000       0.000000       0.000000   \n",
              "25%       322.000000     194.000000     174.000000    1300.000000   \n",
              "50%       500.000000     377.000000     334.000000    5500.000000   \n",
              "75%       500.000000     486.000000     468.000000   14600.000000   \n",
              "max       600.000000     500.000000     500.000000   80000.000000   \n",
              "\n",
              "             t_money     ct_helmets  ...  ct_grenade_flashbang  \\\n",
              "count  122410.000000  122410.000000  ...         122410.000000   \n",
              "mean    11241.036680       2.053901  ...              1.853157   \n",
              "std     12162.806759       1.841470  ...              1.772791   \n",
              "min         0.000000       0.000000  ...              0.000000   \n",
              "25%      1550.000000       0.000000  ...              0.000000   \n",
              "50%      7150.000000       2.000000  ...              1.000000   \n",
              "75%     18000.000000       4.000000  ...              3.000000   \n",
              "max     80000.000000       5.000000  ...              7.000000   \n",
              "\n",
              "       t_grenade_flashbang  ct_grenade_smokegrenade  t_grenade_smokegrenade  \\\n",
              "count        122410.000000            122410.000000           122410.000000   \n",
              "mean              1.858100                 1.540814                1.627146   \n",
              "std               1.794473                 1.737804                1.829147   \n",
              "min               0.000000                 0.000000                0.000000   \n",
              "25%               0.000000                 0.000000                0.000000   \n",
              "50%               1.000000                 1.000000                1.000000   \n",
              "75%               3.000000                 3.000000                3.000000   \n",
              "max               7.000000                 6.000000                9.000000   \n",
              "\n",
              "       ct_grenade_incendiarygrenade  t_grenade_incendiarygrenade  \\\n",
              "count                 122410.000000                122410.000000   \n",
              "mean                       1.001969                     0.019819   \n",
              "std                        1.458084                     0.143933   \n",
              "min                        0.000000                     0.000000   \n",
              "25%                        0.000000                     0.000000   \n",
              "50%                        0.000000                     0.000000   \n",
              "75%                        2.000000                     0.000000   \n",
              "max                        5.000000                     3.000000   \n",
              "\n",
              "       ct_grenade_molotovgrenade  t_grenade_molotovgrenade  \\\n",
              "count              122410.000000             122410.000000   \n",
              "mean                    0.048011                  1.352095   \n",
              "std                     0.227669                  1.663246   \n",
              "min                     0.000000                  0.000000   \n",
              "25%                     0.000000                  0.000000   \n",
              "50%                     0.000000                  1.000000   \n",
              "75%                     0.000000                  2.000000   \n",
              "max                     3.000000                  5.000000   \n",
              "\n",
              "       ct_grenade_decoygrenade  t_grenade_decoygrenade  \n",
              "count            122410.000000           122410.000000  \n",
              "mean                  0.027694                0.025750  \n",
              "std                   0.169531                0.164162  \n",
              "min                   0.000000                0.000000  \n",
              "25%                   0.000000                0.000000  \n",
              "50%                   0.000000                0.000000  \n",
              "75%                   0.000000                0.000000  \n",
              "max                   3.000000                2.000000  \n",
              "\n",
              "[8 rows x 94 columns]"
            ],
            "text/html": [
              "\n",
              "  <div id=\"df-ee8a3b14-0a0c-4cc0-906c-09d1ceabfc42\">\n",
              "    <div class=\"colab-df-container\">\n",
              "      <div>\n",
              "<style scoped>\n",
              "    .dataframe tbody tr th:only-of-type {\n",
              "        vertical-align: middle;\n",
              "    }\n",
              "\n",
              "    .dataframe tbody tr th {\n",
              "        vertical-align: top;\n",
              "    }\n",
              "\n",
              "    .dataframe thead th {\n",
              "        text-align: right;\n",
              "    }\n",
              "</style>\n",
              "<table border=\"1\" class=\"dataframe\">\n",
              "  <thead>\n",
              "    <tr style=\"text-align: right;\">\n",
              "      <th></th>\n",
              "      <th>time_left</th>\n",
              "      <th>ct_score</th>\n",
              "      <th>t_score</th>\n",
              "      <th>ct_health</th>\n",
              "      <th>t_health</th>\n",
              "      <th>ct_armor</th>\n",
              "      <th>t_armor</th>\n",
              "      <th>ct_money</th>\n",
              "      <th>t_money</th>\n",
              "      <th>ct_helmets</th>\n",
              "      <th>...</th>\n",
              "      <th>ct_grenade_flashbang</th>\n",
              "      <th>t_grenade_flashbang</th>\n",
              "      <th>ct_grenade_smokegrenade</th>\n",
              "      <th>t_grenade_smokegrenade</th>\n",
              "      <th>ct_grenade_incendiarygrenade</th>\n",
              "      <th>t_grenade_incendiarygrenade</th>\n",
              "      <th>ct_grenade_molotovgrenade</th>\n",
              "      <th>t_grenade_molotovgrenade</th>\n",
              "      <th>ct_grenade_decoygrenade</th>\n",
              "      <th>t_grenade_decoygrenade</th>\n",
              "    </tr>\n",
              "  </thead>\n",
              "  <tbody>\n",
              "    <tr>\n",
              "      <th>count</th>\n",
              "      <td>122410.000000</td>\n",
              "      <td>122410.000000</td>\n",
              "      <td>122410.000000</td>\n",
              "      <td>122410.000000</td>\n",
              "      <td>122410.000000</td>\n",
              "      <td>122410.000000</td>\n",
              "      <td>122410.000000</td>\n",
              "      <td>122410.000000</td>\n",
              "      <td>122410.000000</td>\n",
              "      <td>122410.000000</td>\n",
              "      <td>...</td>\n",
              "      <td>122410.000000</td>\n",
              "      <td>122410.000000</td>\n",
              "      <td>122410.000000</td>\n",
              "      <td>122410.000000</td>\n",
              "      <td>122410.000000</td>\n",
              "      <td>122410.000000</td>\n",
              "      <td>122410.000000</td>\n",
              "      <td>122410.000000</td>\n",
              "      <td>122410.000000</td>\n",
              "      <td>122410.000000</td>\n",
              "    </tr>\n",
              "    <tr>\n",
              "      <th>mean</th>\n",
              "      <td>97.886922</td>\n",
              "      <td>6.709239</td>\n",
              "      <td>6.780435</td>\n",
              "      <td>412.106568</td>\n",
              "      <td>402.714500</td>\n",
              "      <td>314.142121</td>\n",
              "      <td>298.444670</td>\n",
              "      <td>9789.023773</td>\n",
              "      <td>11241.036680</td>\n",
              "      <td>2.053901</td>\n",
              "      <td>...</td>\n",
              "      <td>1.853157</td>\n",
              "      <td>1.858100</td>\n",
              "      <td>1.540814</td>\n",
              "      <td>1.627146</td>\n",
              "      <td>1.001969</td>\n",
              "      <td>0.019819</td>\n",
              "      <td>0.048011</td>\n",
              "      <td>1.352095</td>\n",
              "      <td>0.027694</td>\n",
              "      <td>0.025750</td>\n",
              "    </tr>\n",
              "    <tr>\n",
              "      <th>std</th>\n",
              "      <td>54.465238</td>\n",
              "      <td>4.790362</td>\n",
              "      <td>4.823543</td>\n",
              "      <td>132.293290</td>\n",
              "      <td>139.919033</td>\n",
              "      <td>171.029736</td>\n",
              "      <td>174.576545</td>\n",
              "      <td>11215.042286</td>\n",
              "      <td>12162.806759</td>\n",
              "      <td>1.841470</td>\n",
              "      <td>...</td>\n",
              "      <td>1.772791</td>\n",
              "      <td>1.794473</td>\n",
              "      <td>1.737804</td>\n",
              "      <td>1.829147</td>\n",
              "      <td>1.458084</td>\n",
              "      <td>0.143933</td>\n",
              "      <td>0.227669</td>\n",
              "      <td>1.663246</td>\n",
              "      <td>0.169531</td>\n",
              "      <td>0.164162</td>\n",
              "    </tr>\n",
              "    <tr>\n",
              "      <th>min</th>\n",
              "      <td>0.010000</td>\n",
              "      <td>0.000000</td>\n",
              "      <td>0.000000</td>\n",
              "      <td>0.000000</td>\n",
              "      <td>0.000000</td>\n",
              "      <td>0.000000</td>\n",
              "      <td>0.000000</td>\n",
              "      <td>0.000000</td>\n",
              "      <td>0.000000</td>\n",
              "      <td>0.000000</td>\n",
              "      <td>...</td>\n",
              "      <td>0.000000</td>\n",
              "      <td>0.000000</td>\n",
              "      <td>0.000000</td>\n",
              "      <td>0.000000</td>\n",
              "      <td>0.000000</td>\n",
              "      <td>0.000000</td>\n",
              "      <td>0.000000</td>\n",
              "      <td>0.000000</td>\n",
              "      <td>0.000000</td>\n",
              "      <td>0.000000</td>\n",
              "    </tr>\n",
              "    <tr>\n",
              "      <th>25%</th>\n",
              "      <td>54.920000</td>\n",
              "      <td>3.000000</td>\n",
              "      <td>3.000000</td>\n",
              "      <td>350.000000</td>\n",
              "      <td>322.000000</td>\n",
              "      <td>194.000000</td>\n",
              "      <td>174.000000</td>\n",
              "      <td>1300.000000</td>\n",
              "      <td>1550.000000</td>\n",
              "      <td>0.000000</td>\n",
              "      <td>...</td>\n",
              "      <td>0.000000</td>\n",
              "      <td>0.000000</td>\n",
              "      <td>0.000000</td>\n",
              "      <td>0.000000</td>\n",
              "      <td>0.000000</td>\n",
              "      <td>0.000000</td>\n",
              "      <td>0.000000</td>\n",
              "      <td>0.000000</td>\n",
              "      <td>0.000000</td>\n",
              "      <td>0.000000</td>\n",
              "    </tr>\n",
              "    <tr>\n",
              "      <th>50%</th>\n",
              "      <td>94.910000</td>\n",
              "      <td>6.000000</td>\n",
              "      <td>6.000000</td>\n",
              "      <td>500.000000</td>\n",
              "      <td>500.000000</td>\n",
              "      <td>377.000000</td>\n",
              "      <td>334.000000</td>\n",
              "      <td>5500.000000</td>\n",
              "      <td>7150.000000</td>\n",
              "      <td>2.000000</td>\n",
              "      <td>...</td>\n",
              "      <td>1.000000</td>\n",
              "      <td>1.000000</td>\n",
              "      <td>1.000000</td>\n",
              "      <td>1.000000</td>\n",
              "      <td>0.000000</td>\n",
              "      <td>0.000000</td>\n",
              "      <td>0.000000</td>\n",
              "      <td>1.000000</td>\n",
              "      <td>0.000000</td>\n",
              "      <td>0.000000</td>\n",
              "    </tr>\n",
              "    <tr>\n",
              "      <th>75%</th>\n",
              "      <td>166.917500</td>\n",
              "      <td>10.000000</td>\n",
              "      <td>10.000000</td>\n",
              "      <td>500.000000</td>\n",
              "      <td>500.000000</td>\n",
              "      <td>486.000000</td>\n",
              "      <td>468.000000</td>\n",
              "      <td>14600.000000</td>\n",
              "      <td>18000.000000</td>\n",
              "      <td>4.000000</td>\n",
              "      <td>...</td>\n",
              "      <td>3.000000</td>\n",
              "      <td>3.000000</td>\n",
              "      <td>3.000000</td>\n",
              "      <td>3.000000</td>\n",
              "      <td>2.000000</td>\n",
              "      <td>0.000000</td>\n",
              "      <td>0.000000</td>\n",
              "      <td>2.000000</td>\n",
              "      <td>0.000000</td>\n",
              "      <td>0.000000</td>\n",
              "    </tr>\n",
              "    <tr>\n",
              "      <th>max</th>\n",
              "      <td>175.000000</td>\n",
              "      <td>32.000000</td>\n",
              "      <td>33.000000</td>\n",
              "      <td>500.000000</td>\n",
              "      <td>600.000000</td>\n",
              "      <td>500.000000</td>\n",
              "      <td>500.000000</td>\n",
              "      <td>80000.000000</td>\n",
              "      <td>80000.000000</td>\n",
              "      <td>5.000000</td>\n",
              "      <td>...</td>\n",
              "      <td>7.000000</td>\n",
              "      <td>7.000000</td>\n",
              "      <td>6.000000</td>\n",
              "      <td>9.000000</td>\n",
              "      <td>5.000000</td>\n",
              "      <td>3.000000</td>\n",
              "      <td>3.000000</td>\n",
              "      <td>5.000000</td>\n",
              "      <td>3.000000</td>\n",
              "      <td>2.000000</td>\n",
              "    </tr>\n",
              "  </tbody>\n",
              "</table>\n",
              "<p>8 rows × 94 columns</p>\n",
              "</div>\n",
              "      <button class=\"colab-df-convert\" onclick=\"convertToInteractive('df-ee8a3b14-0a0c-4cc0-906c-09d1ceabfc42')\"\n",
              "              title=\"Convert this dataframe to an interactive table.\"\n",
              "              style=\"display:none;\">\n",
              "        \n",
              "  <svg xmlns=\"http://www.w3.org/2000/svg\" height=\"24px\"viewBox=\"0 0 24 24\"\n",
              "       width=\"24px\">\n",
              "    <path d=\"M0 0h24v24H0V0z\" fill=\"none\"/>\n",
              "    <path d=\"M18.56 5.44l.94 2.06.94-2.06 2.06-.94-2.06-.94-.94-2.06-.94 2.06-2.06.94zm-11 1L8.5 8.5l.94-2.06 2.06-.94-2.06-.94L8.5 2.5l-.94 2.06-2.06.94zm10 10l.94 2.06.94-2.06 2.06-.94-2.06-.94-.94-2.06-.94 2.06-2.06.94z\"/><path d=\"M17.41 7.96l-1.37-1.37c-.4-.4-.92-.59-1.43-.59-.52 0-1.04.2-1.43.59L10.3 9.45l-7.72 7.72c-.78.78-.78 2.05 0 2.83L4 21.41c.39.39.9.59 1.41.59.51 0 1.02-.2 1.41-.59l7.78-7.78 2.81-2.81c.8-.78.8-2.07 0-2.86zM5.41 20L4 18.59l7.72-7.72 1.47 1.35L5.41 20z\"/>\n",
              "  </svg>\n",
              "      </button>\n",
              "      \n",
              "  <style>\n",
              "    .colab-df-container {\n",
              "      display:flex;\n",
              "      flex-wrap:wrap;\n",
              "      gap: 12px;\n",
              "    }\n",
              "\n",
              "    .colab-df-convert {\n",
              "      background-color: #E8F0FE;\n",
              "      border: none;\n",
              "      border-radius: 50%;\n",
              "      cursor: pointer;\n",
              "      display: none;\n",
              "      fill: #1967D2;\n",
              "      height: 32px;\n",
              "      padding: 0 0 0 0;\n",
              "      width: 32px;\n",
              "    }\n",
              "\n",
              "    .colab-df-convert:hover {\n",
              "      background-color: #E2EBFA;\n",
              "      box-shadow: 0px 1px 2px rgba(60, 64, 67, 0.3), 0px 1px 3px 1px rgba(60, 64, 67, 0.15);\n",
              "      fill: #174EA6;\n",
              "    }\n",
              "\n",
              "    [theme=dark] .colab-df-convert {\n",
              "      background-color: #3B4455;\n",
              "      fill: #D2E3FC;\n",
              "    }\n",
              "\n",
              "    [theme=dark] .colab-df-convert:hover {\n",
              "      background-color: #434B5C;\n",
              "      box-shadow: 0px 1px 3px 1px rgba(0, 0, 0, 0.15);\n",
              "      filter: drop-shadow(0px 1px 2px rgba(0, 0, 0, 0.3));\n",
              "      fill: #FFFFFF;\n",
              "    }\n",
              "  </style>\n",
              "\n",
              "      <script>\n",
              "        const buttonEl =\n",
              "          document.querySelector('#df-ee8a3b14-0a0c-4cc0-906c-09d1ceabfc42 button.colab-df-convert');\n",
              "        buttonEl.style.display =\n",
              "          google.colab.kernel.accessAllowed ? 'block' : 'none';\n",
              "\n",
              "        async function convertToInteractive(key) {\n",
              "          const element = document.querySelector('#df-ee8a3b14-0a0c-4cc0-906c-09d1ceabfc42');\n",
              "          const dataTable =\n",
              "            await google.colab.kernel.invokeFunction('convertToInteractive',\n",
              "                                                     [key], {});\n",
              "          if (!dataTable) return;\n",
              "\n",
              "          const docLinkHtml = 'Like what you see? Visit the ' +\n",
              "            '<a target=\"_blank\" href=https://colab.research.google.com/notebooks/data_table.ipynb>data table notebook</a>'\n",
              "            + ' to learn more about interactive tables.';\n",
              "          element.innerHTML = '';\n",
              "          dataTable['output_type'] = 'display_data';\n",
              "          await google.colab.output.renderOutput(dataTable, element);\n",
              "          const docLink = document.createElement('div');\n",
              "          docLink.innerHTML = docLinkHtml;\n",
              "          element.appendChild(docLink);\n",
              "        }\n",
              "      </script>\n",
              "    </div>\n",
              "  </div>\n",
              "  "
            ]
          },
          "metadata": {},
          "execution_count": 5
        }
      ]
    },
    {
      "cell_type": "code",
      "source": [
        "# Pegar informações para ver se são dados númericos ou precisa ser tratado e se tem nulos\n",
        "data.info()"
      ],
      "metadata": {
        "id": "iCUwiSzyRwgH",
        "colab": {
          "base_uri": "https://localhost:8080/"
        },
        "outputId": "6fdd8b80-de17-4427-cfdd-97eae3dd02e5"
      },
      "execution_count": 6,
      "outputs": [
        {
          "output_type": "stream",
          "name": "stdout",
          "text": [
            "<class 'pandas.core.frame.DataFrame'>\n",
            "RangeIndex: 122410 entries, 0 to 122409\n",
            "Data columns (total 97 columns):\n",
            " #   Column                        Non-Null Count   Dtype  \n",
            "---  ------                        --------------   -----  \n",
            " 0   time_left                     122410 non-null  float64\n",
            " 1   ct_score                      122410 non-null  float64\n",
            " 2   t_score                       122410 non-null  float64\n",
            " 3   map                           122410 non-null  object \n",
            " 4   bomb_planted                  122410 non-null  bool   \n",
            " 5   ct_health                     122410 non-null  float64\n",
            " 6   t_health                      122410 non-null  float64\n",
            " 7   ct_armor                      122410 non-null  float64\n",
            " 8   t_armor                       122410 non-null  float64\n",
            " 9   ct_money                      122410 non-null  float64\n",
            " 10  t_money                       122410 non-null  float64\n",
            " 11  ct_helmets                    122410 non-null  float64\n",
            " 12  t_helmets                     122410 non-null  float64\n",
            " 13  ct_defuse_kits                122410 non-null  float64\n",
            " 14  ct_players_alive              122410 non-null  float64\n",
            " 15  t_players_alive               122410 non-null  float64\n",
            " 16  ct_weapon_ak47                122410 non-null  float64\n",
            " 17  t_weapon_ak47                 122410 non-null  float64\n",
            " 18  ct_weapon_aug                 122410 non-null  float64\n",
            " 19  t_weapon_aug                  122410 non-null  float64\n",
            " 20  ct_weapon_awp                 122410 non-null  float64\n",
            " 21  t_weapon_awp                  122410 non-null  float64\n",
            " 22  ct_weapon_bizon               122410 non-null  float64\n",
            " 23  t_weapon_bizon                122410 non-null  float64\n",
            " 24  ct_weapon_cz75auto            122410 non-null  float64\n",
            " 25  t_weapon_cz75auto             122410 non-null  float64\n",
            " 26  ct_weapon_elite               122410 non-null  float64\n",
            " 27  t_weapon_elite                122410 non-null  float64\n",
            " 28  ct_weapon_famas               122410 non-null  float64\n",
            " 29  t_weapon_famas                122410 non-null  float64\n",
            " 30  ct_weapon_g3sg1               122410 non-null  float64\n",
            " 31  t_weapon_g3sg1                122410 non-null  float64\n",
            " 32  ct_weapon_galilar             122410 non-null  float64\n",
            " 33  t_weapon_galilar              122410 non-null  float64\n",
            " 34  ct_weapon_glock               122410 non-null  float64\n",
            " 35  t_weapon_glock                122410 non-null  float64\n",
            " 36  ct_weapon_m249                122410 non-null  float64\n",
            " 37  t_weapon_m249                 122410 non-null  float64\n",
            " 38  ct_weapon_m4a1s               122410 non-null  float64\n",
            " 39  t_weapon_m4a1s                122410 non-null  float64\n",
            " 40  ct_weapon_m4a4                122410 non-null  float64\n",
            " 41  t_weapon_m4a4                 122410 non-null  float64\n",
            " 42  ct_weapon_mac10               122410 non-null  float64\n",
            " 43  t_weapon_mac10                122410 non-null  float64\n",
            " 44  ct_weapon_mag7                122410 non-null  float64\n",
            " 45  t_weapon_mag7                 122410 non-null  float64\n",
            " 46  ct_weapon_mp5sd               122410 non-null  float64\n",
            " 47  t_weapon_mp5sd                122410 non-null  float64\n",
            " 48  ct_weapon_mp7                 122410 non-null  float64\n",
            " 49  t_weapon_mp7                  122410 non-null  float64\n",
            " 50  ct_weapon_mp9                 122410 non-null  float64\n",
            " 51  t_weapon_mp9                  122410 non-null  float64\n",
            " 52  ct_weapon_negev               122410 non-null  float64\n",
            " 53  t_weapon_negev                122410 non-null  float64\n",
            " 54  ct_weapon_nova                122410 non-null  float64\n",
            " 55  t_weapon_nova                 122410 non-null  float64\n",
            " 56  ct_weapon_p90                 122410 non-null  float64\n",
            " 57  t_weapon_p90                  122410 non-null  float64\n",
            " 58  ct_weapon_r8revolver          122410 non-null  float64\n",
            " 59  t_weapon_r8revolver           122410 non-null  float64\n",
            " 60  ct_weapon_sawedoff            122410 non-null  float64\n",
            " 61  t_weapon_sawedoff             122410 non-null  float64\n",
            " 62  ct_weapon_scar20              122410 non-null  float64\n",
            " 63  t_weapon_scar20               122410 non-null  float64\n",
            " 64  ct_weapon_sg553               122410 non-null  float64\n",
            " 65  t_weapon_sg553                122410 non-null  float64\n",
            " 66  ct_weapon_ssg08               122410 non-null  float64\n",
            " 67  t_weapon_ssg08                122410 non-null  float64\n",
            " 68  ct_weapon_ump45               122410 non-null  float64\n",
            " 69  t_weapon_ump45                122410 non-null  float64\n",
            " 70  ct_weapon_xm1014              122410 non-null  float64\n",
            " 71  t_weapon_xm1014               122410 non-null  float64\n",
            " 72  ct_weapon_deagle              122410 non-null  float64\n",
            " 73  t_weapon_deagle               122410 non-null  float64\n",
            " 74  ct_weapon_fiveseven           122410 non-null  float64\n",
            " 75  t_weapon_fiveseven            122410 non-null  float64\n",
            " 76  ct_weapon_usps                122410 non-null  float64\n",
            " 77  t_weapon_usps                 122410 non-null  float64\n",
            " 78  ct_weapon_p250                122410 non-null  float64\n",
            " 79  t_weapon_p250                 122410 non-null  float64\n",
            " 80  ct_weapon_p2000               122410 non-null  float64\n",
            " 81  t_weapon_p2000                122410 non-null  float64\n",
            " 82  ct_weapon_tec9                122410 non-null  float64\n",
            " 83  t_weapon_tec9                 122410 non-null  float64\n",
            " 84  ct_grenade_hegrenade          122410 non-null  float64\n",
            " 85  t_grenade_hegrenade           122410 non-null  float64\n",
            " 86  ct_grenade_flashbang          122410 non-null  float64\n",
            " 87  t_grenade_flashbang           122410 non-null  float64\n",
            " 88  ct_grenade_smokegrenade       122410 non-null  float64\n",
            " 89  t_grenade_smokegrenade        122410 non-null  float64\n",
            " 90  ct_grenade_incendiarygrenade  122410 non-null  float64\n",
            " 91  t_grenade_incendiarygrenade   122410 non-null  float64\n",
            " 92  ct_grenade_molotovgrenade     122410 non-null  float64\n",
            " 93  t_grenade_molotovgrenade      122410 non-null  float64\n",
            " 94  ct_grenade_decoygrenade       122410 non-null  float64\n",
            " 95  t_grenade_decoygrenade        122410 non-null  float64\n",
            " 96  round_winner                  122410 non-null  object \n",
            "dtypes: bool(1), float64(94), object(2)\n",
            "memory usage: 89.8+ MB\n"
          ]
        }
      ]
    },
    {
      "cell_type": "code",
      "source": [
        "data.nunique()"
      ],
      "metadata": {
        "id": "oThxExlRR3k-",
        "colab": {
          "base_uri": "https://localhost:8080/"
        },
        "outputId": "33310c34-093b-4143-adf8-1947c4bd681a"
      },
      "execution_count": 7,
      "outputs": [
        {
          "output_type": "execute_result",
          "data": {
            "text/plain": [
              "time_left                    10782\n",
              "ct_score                        33\n",
              "t_score                         34\n",
              "map                              8\n",
              "bomb_planted                     2\n",
              "                             ...  \n",
              "ct_grenade_molotovgrenade        4\n",
              "t_grenade_molotovgrenade         6\n",
              "ct_grenade_decoygrenade          4\n",
              "t_grenade_decoygrenade           3\n",
              "round_winner                     2\n",
              "Length: 97, dtype: int64"
            ]
          },
          "metadata": {},
          "execution_count": 7
        }
      ]
    },
    {
      "cell_type": "code",
      "source": [
        "data['round_winner'].nunique()"
      ],
      "metadata": {
        "colab": {
          "base_uri": "https://localhost:8080/"
        },
        "id": "nK7e_PLoIs1b",
        "outputId": "c61043a4-32b8-4529-83b3-13704119e530"
      },
      "execution_count": 8,
      "outputs": [
        {
          "output_type": "execute_result",
          "data": {
            "text/plain": [
              "2"
            ]
          },
          "metadata": {},
          "execution_count": 8
        }
      ]
    },
    {
      "cell_type": "code",
      "source": [
        "data['bomb_planted'] = data['bomb_planted'].astype(np.int16)"
      ],
      "metadata": {
        "id": "hLEYQIGRTSJr"
      },
      "execution_count": 9,
      "outputs": []
    },
    {
      "cell_type": "code",
      "source": [
        "encoder = LabelEncoder()\n",
        "\n",
        "data['map'] = encoder.fit_transform(data['map'])"
      ],
      "metadata": {
        "id": "Eqew17TWTPAi"
      },
      "execution_count": 10,
      "outputs": []
    },
    {
      "cell_type": "code",
      "source": [
        "data['round_winner'] = encoder.fit_transform(data['round_winner'])"
      ],
      "metadata": {
        "id": "kMy8jrbiTNJy"
      },
      "execution_count": 11,
      "outputs": []
    },
    {
      "cell_type": "code",
      "source": [
        "data['round_winner'].nunique()"
      ],
      "metadata": {
        "colab": {
          "base_uri": "https://localhost:8080/"
        },
        "id": "TTNyGEbNHi9e",
        "outputId": "0417ac91-54aa-4644-cb4b-d60c4f0ca7b6"
      },
      "execution_count": 12,
      "outputs": [
        {
          "output_type": "execute_result",
          "data": {
            "text/plain": [
              "2"
            ]
          },
          "metadata": {},
          "execution_count": 12
        }
      ]
    },
    {
      "cell_type": "code",
      "source": [
        "# Correlação\n",
        "corr = pd.DataFrame(data).corr()\n",
        "plt.figure(figsize = (10, 10))\n",
        "sns.heatmap(corr, cmap ='RdYlGn', linewidths = 0.30)"
      ],
      "metadata": {
        "id": "YbIWoEUKSAt3",
        "colab": {
          "base_uri": "https://localhost:8080/",
          "height": 757
        },
        "outputId": "bc4eb5ee-23d4-445c-eb35-955355ebffbd"
      },
      "execution_count": 13,
      "outputs": [
        {
          "output_type": "execute_result",
          "data": {
            "text/plain": [
              "<matplotlib.axes._subplots.AxesSubplot at 0x7fb839fc9c90>"
            ]
          },
          "metadata": {},
          "execution_count": 13
        },
        {
          "output_type": "display_data",
          "data": {
            "text/plain": [
              "<Figure size 720x720 with 2 Axes>"
            ],
            "image/png": "[encoded data removed]"
          },
          "metadata": {
            "needs_background": "light"
          }
        }
      ]
    },
    {
      "cell_type": "code",
      "source": [
        "y = data['round_winner']\n",
        "X = data.drop('round_winner', axis=1)"
      ],
      "metadata": {
        "id": "S49z74c9UvSx"
      },
      "execution_count": 14,
      "outputs": []
    },
    {
      "cell_type": "code",
      "source": [
        "data_columns = X.columns\n",
        "data_columns"
      ],
      "metadata": {
        "id": "-Bn7I3jhzjUC",
        "colab": {
          "base_uri": "https://localhost:8080/"
        },
        "outputId": "11d6e4ed-d876-4d94-e751-4cdb96f39ee9"
      },
      "execution_count": 15,
      "outputs": [
        {
          "output_type": "execute_result",
          "data": {
            "text/plain": [
              "Index(['time_left', 'ct_score', 't_score', 'map', 'bomb_planted', 'ct_health',\n",
              "       't_health', 'ct_armor', 't_armor', 'ct_money', 't_money', 'ct_helmets',\n",
              "       't_helmets', 'ct_defuse_kits', 'ct_players_alive', 't_players_alive',\n",
              "       'ct_weapon_ak47', 't_weapon_ak47', 'ct_weapon_aug', 't_weapon_aug',\n",
              "       'ct_weapon_awp', 't_weapon_awp', 'ct_weapon_bizon', 't_weapon_bizon',\n",
              "       'ct_weapon_cz75auto', 't_weapon_cz75auto', 'ct_weapon_elite',\n",
              "       't_weapon_elite', 'ct_weapon_famas', 't_weapon_famas',\n",
              "       'ct_weapon_g3sg1', 't_weapon_g3sg1', 'ct_weapon_galilar',\n",
              "       't_weapon_galilar', 'ct_weapon_glock', 't_weapon_glock',\n",
              "       'ct_weapon_m249', 't_weapon_m249', 'ct_weapon_m4a1s', 't_weapon_m4a1s',\n",
              "       'ct_weapon_m4a4', 't_weapon_m4a4', 'ct_weapon_mac10', 't_weapon_mac10',\n",
              "       'ct_weapon_mag7', 't_weapon_mag7', 'ct_weapon_mp5sd', 't_weapon_mp5sd',\n",
              "       'ct_weapon_mp7', 't_weapon_mp7', 'ct_weapon_mp9', 't_weapon_mp9',\n",
              "       'ct_weapon_negev', 't_weapon_negev', 'ct_weapon_nova', 't_weapon_nova',\n",
              "       'ct_weapon_p90', 't_weapon_p90', 'ct_weapon_r8revolver',\n",
              "       't_weapon_r8revolver', 'ct_weapon_sawedoff', 't_weapon_sawedoff',\n",
              "       'ct_weapon_scar20', 't_weapon_scar20', 'ct_weapon_sg553',\n",
              "       't_weapon_sg553', 'ct_weapon_ssg08', 't_weapon_ssg08',\n",
              "       'ct_weapon_ump45', 't_weapon_ump45', 'ct_weapon_xm1014',\n",
              "       't_weapon_xm1014', 'ct_weapon_deagle', 't_weapon_deagle',\n",
              "       'ct_weapon_fiveseven', 't_weapon_fiveseven', 'ct_weapon_usps',\n",
              "       't_weapon_usps', 'ct_weapon_p250', 't_weapon_p250', 'ct_weapon_p2000',\n",
              "       't_weapon_p2000', 'ct_weapon_tec9', 't_weapon_tec9',\n",
              "       'ct_grenade_hegrenade', 't_grenade_hegrenade', 'ct_grenade_flashbang',\n",
              "       't_grenade_flashbang', 'ct_grenade_smokegrenade',\n",
              "       't_grenade_smokegrenade', 'ct_grenade_incendiarygrenade',\n",
              "       't_grenade_incendiarygrenade', 'ct_grenade_molotovgrenade',\n",
              "       't_grenade_molotovgrenade', 'ct_grenade_decoygrenade',\n",
              "       't_grenade_decoygrenade'],\n",
              "      dtype='object')"
            ]
          },
          "metadata": {},
          "execution_count": 15
        }
      ]
    },
    {
      "cell_type": "code",
      "source": [
        "normalizador = MinMaxScaler()\n",
        "normalizador.fit(X)\n",
        "data_normalize = normalizador.transform(X)"
      ],
      "metadata": {
        "id": "hOKnY5xEzTUR"
      },
      "execution_count": 16,
      "outputs": []
    },
    {
      "cell_type": "code",
      "source": [
        "data_normalize"
      ],
      "metadata": {
        "id": "_MWWNLdr0dTl",
        "colab": {
          "base_uri": "https://localhost:8080/"
        },
        "outputId": "28a41051-b86f-4ee9-fd67-cb477c2ca538"
      },
      "execution_count": 17,
      "outputs": [
        {
          "output_type": "execute_result",
          "data": {
            "text/plain": [
              "array([[1.        , 0.        , 0.        , ..., 0.        , 0.        ,\n",
              "        0.        ],\n",
              "       [0.89159381, 0.        , 0.        , ..., 0.        , 0.        ,\n",
              "        0.        ],\n",
              "       [0.54871707, 0.        , 0.        , ..., 0.        , 0.        ,\n",
              "        0.        ],\n",
              "       ...,\n",
              "       [0.65672324, 0.34375   , 0.45454545, ..., 1.        , 0.        ,\n",
              "        0.        ],\n",
              "       [0.542431  , 0.34375   , 0.45454545, ..., 0.8       , 0.        ,\n",
              "        0.        ],\n",
              "       [0.42813875, 0.34375   , 0.45454545, ..., 0.6       , 0.        ,\n",
              "        0.        ]])"
            ]
          },
          "metadata": {},
          "execution_count": 17
        }
      ]
    },
    {
      "cell_type": "code",
      "source": [
        "X.describe()"
      ],
      "metadata": {
        "id": "_UuPLCgHzTr7",
        "colab": {
          "base_uri": "https://localhost:8080/",
          "height": 394
        },
        "outputId": "b51dae10-d47f-4723-ec68-8b7b530162b0"
      },
      "execution_count": 18,
      "outputs": [
        {
          "output_type": "execute_result",
          "data": {
            "text/plain": [
              "           time_left       ct_score        t_score            map  \\\n",
              "count  122410.000000  122410.000000  122410.000000  122410.000000   \n",
              "mean       97.886922       6.709239       6.780435       3.520170   \n",
              "std        54.465238       4.790362       4.823543       1.929088   \n",
              "min         0.010000       0.000000       0.000000       0.000000   \n",
              "25%        54.920000       3.000000       3.000000       2.000000   \n",
              "50%        94.910000       6.000000       6.000000       3.000000   \n",
              "75%       166.917500      10.000000      10.000000       5.000000   \n",
              "max       175.000000      32.000000      33.000000       7.000000   \n",
              "\n",
              "        bomb_planted      ct_health       t_health       ct_armor  \\\n",
              "count  122410.000000  122410.000000  122410.000000  122410.000000   \n",
              "mean        0.111788     412.106568     402.714500     314.142121   \n",
              "std         0.315107     132.293290     139.919033     171.029736   \n",
              "min         0.000000       0.000000       0.000000       0.000000   \n",
              "25%         0.000000     350.000000     322.000000     194.000000   \n",
              "50%         0.000000     500.000000     500.000000     377.000000   \n",
              "75%         0.000000     500.000000     500.000000     486.000000   \n",
              "max         1.000000     500.000000     600.000000     500.000000   \n",
              "\n",
              "             t_armor       ct_money  ...  ct_grenade_flashbang  \\\n",
              "count  122410.000000  122410.000000  ...         122410.000000   \n",
              "mean      298.444670    9789.023773  ...              1.853157   \n",
              "std       174.576545   11215.042286  ...              1.772791   \n",
              "min         0.000000       0.000000  ...              0.000000   \n",
              "25%       174.000000    1300.000000  ...              0.000000   \n",
              "50%       334.000000    5500.000000  ...              1.000000   \n",
              "75%       468.000000   14600.000000  ...              3.000000   \n",
              "max       500.000000   80000.000000  ...              7.000000   \n",
              "\n",
              "       t_grenade_flashbang  ct_grenade_smokegrenade  t_grenade_smokegrenade  \\\n",
              "count        122410.000000            122410.000000           122410.000000   \n",
              "mean              1.858100                 1.540814                1.627146   \n",
              "std               1.794473                 1.737804                1.829147   \n",
              "min               0.000000                 0.000000                0.000000   \n",
              "25%               0.000000                 0.000000                0.000000   \n",
              "50%               1.000000                 1.000000                1.000000   \n",
              "75%               3.000000                 3.000000                3.000000   \n",
              "max               7.000000                 6.000000                9.000000   \n",
              "\n",
              "       ct_grenade_incendiarygrenade  t_grenade_incendiarygrenade  \\\n",
              "count                 122410.000000                122410.000000   \n",
              "mean                       1.001969                     0.019819   \n",
              "std                        1.458084                     0.143933   \n",
              "min                        0.000000                     0.000000   \n",
              "25%                        0.000000                     0.000000   \n",
              "50%                        0.000000                     0.000000   \n",
              "75%                        2.000000                     0.000000   \n",
              "max                        5.000000                     3.000000   \n",
              "\n",
              "       ct_grenade_molotovgrenade  t_grenade_molotovgrenade  \\\n",
              "count              122410.000000             122410.000000   \n",
              "mean                    0.048011                  1.352095   \n",
              "std                     0.227669                  1.663246   \n",
              "min                     0.000000                  0.000000   \n",
              "25%                     0.000000                  0.000000   \n",
              "50%                     0.000000                  1.000000   \n",
              "75%                     0.000000                  2.000000   \n",
              "max                     3.000000                  5.000000   \n",
              "\n",
              "       ct_grenade_decoygrenade  t_grenade_decoygrenade  \n",
              "count            122410.000000           122410.000000  \n",
              "mean                  0.027694                0.025750  \n",
              "std                   0.169531                0.164162  \n",
              "min                   0.000000                0.000000  \n",
              "25%                   0.000000                0.000000  \n",
              "50%                   0.000000                0.000000  \n",
              "75%                   0.000000                0.000000  \n",
              "max                   3.000000                2.000000  \n",
              "\n",
              "[8 rows x 96 columns]"
            ],
            "text/html": [
              "\n",
              "  <div id=\"df-d55c24b5-eb7a-45c1-8486-6f0d13f0b8ba\">\n",
              "    <div class=\"colab-df-container\">\n",
              "      <div>\n",
              "<style scoped>\n",
              "    .dataframe tbody tr th:only-of-type {\n",
              "        vertical-align: middle;\n",
              "    }\n",
              "\n",
              "    .dataframe tbody tr th {\n",
              "        vertical-align: top;\n",
              "    }\n",
              "\n",
              "    .dataframe thead th {\n",
              "        text-align: right;\n",
              "    }\n",
              "</style>\n",
              "<table border=\"1\" class=\"dataframe\">\n",
              "  <thead>\n",
              "    <tr style=\"text-align: right;\">\n",
              "      <th></th>\n",
              "      <th>time_left</th>\n",
              "      <th>ct_score</th>\n",
              "      <th>t_score</th>\n",
              "      <th>map</th>\n",
              "      <th>bomb_planted</th>\n",
              "      <th>ct_health</th>\n",
              "      <th>t_health</th>\n",
              "      <th>ct_armor</th>\n",
              "      <th>t_armor</th>\n",
              "      <th>ct_money</th>\n",
              "      <th>...</th>\n",
              "      <th>ct_grenade_flashbang</th>\n",
              "      <th>t_grenade_flashbang</th>\n",
              "      <th>ct_grenade_smokegrenade</th>\n",
              "      <th>t_grenade_smokegrenade</th>\n",
              "      <th>ct_grenade_incendiarygrenade</th>\n",
              "      <th>t_grenade_incendiarygrenade</th>\n",
              "      <th>ct_grenade_molotovgrenade</th>\n",
              "      <th>t_grenade_molotovgrenade</th>\n",
              "      <th>ct_grenade_decoygrenade</th>\n",
              "      <th>t_grenade_decoygrenade</th>\n",
              "    </tr>\n",
              "  </thead>\n",
              "  <tbody>\n",
              "    <tr>\n",
              "      <th>count</th>\n",
              "      <td>122410.000000</td>\n",
              "      <td>122410.000000</td>\n",
              "      <td>122410.000000</td>\n",
              "      <td>122410.000000</td>\n",
              "      <td>122410.000000</td>\n",
              "      <td>122410.000000</td>\n",
              "      <td>122410.000000</td>\n",
              "      <td>122410.000000</td>\n",
              "      <td>122410.000000</td>\n",
              "      <td>122410.000000</td>\n",
              "      <td>...</td>\n",
              "      <td>122410.000000</td>\n",
              "      <td>122410.000000</td>\n",
              "      <td>122410.000000</td>\n",
              "      <td>122410.000000</td>\n",
              "      <td>122410.000000</td>\n",
              "      <td>122410.000000</td>\n",
              "      <td>122410.000000</td>\n",
              "      <td>122410.000000</td>\n",
              "      <td>122410.000000</td>\n",
              "      <td>122410.000000</td>\n",
              "    </tr>\n",
              "    <tr>\n",
              "      <th>mean</th>\n",
              "      <td>97.886922</td>\n",
              "      <td>6.709239</td>\n",
              "      <td>6.780435</td>\n",
              "      <td>3.520170</td>\n",
              "      <td>0.111788</td>\n",
              "      <td>412.106568</td>\n",
              "      <td>402.714500</td>\n",
              "      <td>314.142121</td>\n",
              "      <td>298.444670</td>\n",
              "      <td>9789.023773</td>\n",
              "      <td>...</td>\n",
              "      <td>1.853157</td>\n",
              "      <td>1.858100</td>\n",
              "      <td>1.540814</td>\n",
              "      <td>1.627146</td>\n",
              "      <td>1.001969</td>\n",
              "      <td>0.019819</td>\n",
              "      <td>0.048011</td>\n",
              "      <td>1.352095</td>\n",
              "      <td>0.027694</td>\n",
              "      <td>0.025750</td>\n",
              "    </tr>\n",
              "    <tr>\n",
              "      <th>std</th>\n",
              "      <td>54.465238</td>\n",
              "      <td>4.790362</td>\n",
              "      <td>4.823543</td>\n",
              "      <td>1.929088</td>\n",
              "      <td>0.315107</td>\n",
              "      <td>132.293290</td>\n",
              "      <td>139.919033</td>\n",
              "      <td>171.029736</td>\n",
              "      <td>174.576545</td>\n",
              "      <td>11215.042286</td>\n",
              "      <td>...</td>\n",
              "      <td>1.772791</td>\n",
              "      <td>1.794473</td>\n",
              "      <td>1.737804</td>\n",
              "      <td>1.829147</td>\n",
              "      <td>1.458084</td>\n",
              "      <td>0.143933</td>\n",
              "      <td>0.227669</td>\n",
              "      <td>1.663246</td>\n",
              "      <td>0.169531</td>\n",
              "      <td>0.164162</td>\n",
              "    </tr>\n",
              "    <tr>\n",
              "      <th>min</th>\n",
              "      <td>0.010000</td>\n",
              "      <td>0.000000</td>\n",
              "      <td>0.000000</td>\n",
              "      <td>0.000000</td>\n",
              "      <td>0.000000</td>\n",
              "      <td>0.000000</td>\n",
              "      <td>0.000000</td>\n",
              "      <td>0.000000</td>\n",
              "      <td>0.000000</td>\n",
              "      <td>0.000000</td>\n",
              "      <td>...</td>\n",
              "      <td>0.000000</td>\n",
              "      <td>0.000000</td>\n",
              "      <td>0.000000</td>\n",
              "      <td>0.000000</td>\n",
              "      <td>0.000000</td>\n",
              "      <td>0.000000</td>\n",
              "      <td>0.000000</td>\n",
              "      <td>0.000000</td>\n",
              "      <td>0.000000</td>\n",
              "      <td>0.000000</td>\n",
              "    </tr>\n",
              "    <tr>\n",
              "      <th>25%</th>\n",
              "      <td>54.920000</td>\n",
              "      <td>3.000000</td>\n",
              "      <td>3.000000</td>\n",
              "      <td>2.000000</td>\n",
              "      <td>0.000000</td>\n",
              "      <td>350.000000</td>\n",
              "      <td>322.000000</td>\n",
              "      <td>194.000000</td>\n",
              "      <td>174.000000</td>\n",
              "      <td>1300.000000</td>\n",
              "      <td>...</td>\n",
              "      <td>0.000000</td>\n",
              "      <td>0.000000</td>\n",
              "      <td>0.000000</td>\n",
              "      <td>0.000000</td>\n",
              "      <td>0.000000</td>\n",
              "      <td>0.000000</td>\n",
              "      <td>0.000000</td>\n",
              "      <td>0.000000</td>\n",
              "      <td>0.000000</td>\n",
              "      <td>0.000000</td>\n",
              "    </tr>\n",
              "    <tr>\n",
              "      <th>50%</th>\n",
              "      <td>94.910000</td>\n",
              "      <td>6.000000</td>\n",
              "      <td>6.000000</td>\n",
              "      <td>3.000000</td>\n",
              "      <td>0.000000</td>\n",
              "      <td>500.000000</td>\n",
              "      <td>500.000000</td>\n",
              "      <td>377.000000</td>\n",
              "      <td>334.000000</td>\n",
              "      <td>5500.000000</td>\n",
              "      <td>...</td>\n",
              "      <td>1.000000</td>\n",
              "      <td>1.000000</td>\n",
              "      <td>1.000000</td>\n",
              "      <td>1.000000</td>\n",
              "      <td>0.000000</td>\n",
              "      <td>0.000000</td>\n",
              "      <td>0.000000</td>\n",
              "      <td>1.000000</td>\n",
              "      <td>0.000000</td>\n",
              "      <td>0.000000</td>\n",
              "    </tr>\n",
              "    <tr>\n",
              "      <th>75%</th>\n",
              "      <td>166.917500</td>\n",
              "      <td>10.000000</td>\n",
              "      <td>10.000000</td>\n",
              "      <td>5.000000</td>\n",
              "      <td>0.000000</td>\n",
              "      <td>500.000000</td>\n",
              "      <td>500.000000</td>\n",
              "      <td>486.000000</td>\n",
              "      <td>468.000000</td>\n",
              "      <td>14600.000000</td>\n",
              "      <td>...</td>\n",
              "      <td>3.000000</td>\n",
              "      <td>3.000000</td>\n",
              "      <td>3.000000</td>\n",
              "      <td>3.000000</td>\n",
              "      <td>2.000000</td>\n",
              "      <td>0.000000</td>\n",
              "      <td>0.000000</td>\n",
              "      <td>2.000000</td>\n",
              "      <td>0.000000</td>\n",
              "      <td>0.000000</td>\n",
              "    </tr>\n",
              "    <tr>\n",
              "      <th>max</th>\n",
              "      <td>175.000000</td>\n",
              "      <td>32.000000</td>\n",
              "      <td>33.000000</td>\n",
              "      <td>7.000000</td>\n",
              "      <td>1.000000</td>\n",
              "      <td>500.000000</td>\n",
              "      <td>600.000000</td>\n",
              "      <td>500.000000</td>\n",
              "      <td>500.000000</td>\n",
              "      <td>80000.000000</td>\n",
              "      <td>...</td>\n",
              "      <td>7.000000</td>\n",
              "      <td>7.000000</td>\n",
              "      <td>6.000000</td>\n",
              "      <td>9.000000</td>\n",
              "      <td>5.000000</td>\n",
              "      <td>3.000000</td>\n",
              "      <td>3.000000</td>\n",
              "      <td>5.000000</td>\n",
              "      <td>3.000000</td>\n",
              "      <td>2.000000</td>\n",
              "    </tr>\n",
              "  </tbody>\n",
              "</table>\n",
              "<p>8 rows × 96 columns</p>\n",
              "</div>\n",
              "      <button class=\"colab-df-convert\" onclick=\"convertToInteractive('df-d55c24b5-eb7a-45c1-8486-6f0d13f0b8ba')\"\n",
              "              title=\"Convert this dataframe to an interactive table.\"\n",
              "              style=\"display:none;\">\n",
              "        \n",
              "  <svg xmlns=\"http://www.w3.org/2000/svg\" height=\"24px\"viewBox=\"0 0 24 24\"\n",
              "       width=\"24px\">\n",
              "    <path d=\"M0 0h24v24H0V0z\" fill=\"none\"/>\n",
              "    <path d=\"M18.56 5.44l.94 2.06.94-2.06 2.06-.94-2.06-.94-.94-2.06-.94 2.06-2.06.94zm-11 1L8.5 8.5l.94-2.06 2.06-.94-2.06-.94L8.5 2.5l-.94 2.06-2.06.94zm10 10l.94 2.06.94-2.06 2.06-.94-2.06-.94-.94-2.06-.94 2.06-2.06.94z\"/><path d=\"M17.41 7.96l-1.37-1.37c-.4-.4-.92-.59-1.43-.59-.52 0-1.04.2-1.43.59L10.3 9.45l-7.72 7.72c-.78.78-.78 2.05 0 2.83L4 21.41c.39.39.9.59 1.41.59.51 0 1.02-.2 1.41-.59l7.78-7.78 2.81-2.81c.8-.78.8-2.07 0-2.86zM5.41 20L4 18.59l7.72-7.72 1.47 1.35L5.41 20z\"/>\n",
              "  </svg>\n",
              "      </button>\n",
              "      \n",
              "  <style>\n",
              "    .colab-df-container {\n",
              "      display:flex;\n",
              "      flex-wrap:wrap;\n",
              "      gap: 12px;\n",
              "    }\n",
              "\n",
              "    .colab-df-convert {\n",
              "      background-color: #E8F0FE;\n",
              "      border: none;\n",
              "      border-radius: 50%;\n",
              "      cursor: pointer;\n",
              "      display: none;\n",
              "      fill: #1967D2;\n",
              "      height: 32px;\n",
              "      padding: 0 0 0 0;\n",
              "      width: 32px;\n",
              "    }\n",
              "\n",
              "    .colab-df-convert:hover {\n",
              "      background-color: #E2EBFA;\n",
              "      box-shadow: 0px 1px 2px rgba(60, 64, 67, 0.3), 0px 1px 3px 1px rgba(60, 64, 67, 0.15);\n",
              "      fill: #174EA6;\n",
              "    }\n",
              "\n",
              "    [theme=dark] .colab-df-convert {\n",
              "      background-color: #3B4455;\n",
              "      fill: #D2E3FC;\n",
              "    }\n",
              "\n",
              "    [theme=dark] .colab-df-convert:hover {\n",
              "      background-color: #434B5C;\n",
              "      box-shadow: 0px 1px 3px 1px rgba(0, 0, 0, 0.15);\n",
              "      filter: drop-shadow(0px 1px 2px rgba(0, 0, 0, 0.3));\n",
              "      fill: #FFFFFF;\n",
              "    }\n",
              "  </style>\n",
              "\n",
              "      <script>\n",
              "        const buttonEl =\n",
              "          document.querySelector('#df-d55c24b5-eb7a-45c1-8486-6f0d13f0b8ba button.colab-df-convert');\n",
              "        buttonEl.style.display =\n",
              "          google.colab.kernel.accessAllowed ? 'block' : 'none';\n",
              "\n",
              "        async function convertToInteractive(key) {\n",
              "          const element = document.querySelector('#df-d55c24b5-eb7a-45c1-8486-6f0d13f0b8ba');\n",
              "          const dataTable =\n",
              "            await google.colab.kernel.invokeFunction('convertToInteractive',\n",
              "                                                     [key], {});\n",
              "          if (!dataTable) return;\n",
              "\n",
              "          const docLinkHtml = 'Like what you see? Visit the ' +\n",
              "            '<a target=\"_blank\" href=https://colab.research.google.com/notebooks/data_table.ipynb>data table notebook</a>'\n",
              "            + ' to learn more about interactive tables.';\n",
              "          element.innerHTML = '';\n",
              "          dataTable['output_type'] = 'display_data';\n",
              "          await google.colab.output.renderOutput(dataTable, element);\n",
              "          const docLink = document.createElement('div');\n",
              "          docLink.innerHTML = docLinkHtml;\n",
              "          element.appendChild(docLink);\n",
              "        }\n",
              "      </script>\n",
              "    </div>\n",
              "  </div>\n",
              "  "
            ]
          },
          "metadata": {},
          "execution_count": 18
        }
      ]
    },
    {
      "cell_type": "code",
      "source": [
        "X.info()"
      ],
      "metadata": {
        "colab": {
          "base_uri": "https://localhost:8080/"
        },
        "id": "IS5n5vMlHfKg",
        "outputId": "a6cfe092-e59e-46d6-a66d-8c25085f5b0c"
      },
      "execution_count": 19,
      "outputs": [
        {
          "output_type": "stream",
          "name": "stdout",
          "text": [
            "<class 'pandas.core.frame.DataFrame'>\n",
            "RangeIndex: 122410 entries, 0 to 122409\n",
            "Data columns (total 96 columns):\n",
            " #   Column                        Non-Null Count   Dtype  \n",
            "---  ------                        --------------   -----  \n",
            " 0   time_left                     122410 non-null  float64\n",
            " 1   ct_score                      122410 non-null  float64\n",
            " 2   t_score                       122410 non-null  float64\n",
            " 3   map                           122410 non-null  int64  \n",
            " 4   bomb_planted                  122410 non-null  int16  \n",
            " 5   ct_health                     122410 non-null  float64\n",
            " 6   t_health                      122410 non-null  float64\n",
            " 7   ct_armor                      122410 non-null  float64\n",
            " 8   t_armor                       122410 non-null  float64\n",
            " 9   ct_money                      122410 non-null  float64\n",
            " 10  t_money                       122410 non-null  float64\n",
            " 11  ct_helmets                    122410 non-null  float64\n",
            " 12  t_helmets                     122410 non-null  float64\n",
            " 13  ct_defuse_kits                122410 non-null  float64\n",
            " 14  ct_players_alive              122410 non-null  float64\n",
            " 15  t_players_alive               122410 non-null  float64\n",
            " 16  ct_weapon_ak47                122410 non-null  float64\n",
            " 17  t_weapon_ak47                 122410 non-null  float64\n",
            " 18  ct_weapon_aug                 122410 non-null  float64\n",
            " 19  t_weapon_aug                  122410 non-null  float64\n",
            " 20  ct_weapon_awp                 122410 non-null  float64\n",
            " 21  t_weapon_awp                  122410 non-null  float64\n",
            " 22  ct_weapon_bizon               122410 non-null  float64\n",
            " 23  t_weapon_bizon                122410 non-null  float64\n",
            " 24  ct_weapon_cz75auto            122410 non-null  float64\n",
            " 25  t_weapon_cz75auto             122410 non-null  float64\n",
            " 26  ct_weapon_elite               122410 non-null  float64\n",
            " 27  t_weapon_elite                122410 non-null  float64\n",
            " 28  ct_weapon_famas               122410 non-null  float64\n",
            " 29  t_weapon_famas                122410 non-null  float64\n",
            " 30  ct_weapon_g3sg1               122410 non-null  float64\n",
            " 31  t_weapon_g3sg1                122410 non-null  float64\n",
            " 32  ct_weapon_galilar             122410 non-null  float64\n",
            " 33  t_weapon_galilar              122410 non-null  float64\n",
            " 34  ct_weapon_glock               122410 non-null  float64\n",
            " 35  t_weapon_glock                122410 non-null  float64\n",
            " 36  ct_weapon_m249                122410 non-null  float64\n",
            " 37  t_weapon_m249                 122410 non-null  float64\n",
            " 38  ct_weapon_m4a1s               122410 non-null  float64\n",
            " 39  t_weapon_m4a1s                122410 non-null  float64\n",
            " 40  ct_weapon_m4a4                122410 non-null  float64\n",
            " 41  t_weapon_m4a4                 122410 non-null  float64\n",
            " 42  ct_weapon_mac10               122410 non-null  float64\n",
            " 43  t_weapon_mac10                122410 non-null  float64\n",
            " 44  ct_weapon_mag7                122410 non-null  float64\n",
            " 45  t_weapon_mag7                 122410 non-null  float64\n",
            " 46  ct_weapon_mp5sd               122410 non-null  float64\n",
            " 47  t_weapon_mp5sd                122410 non-null  float64\n",
            " 48  ct_weapon_mp7                 122410 non-null  float64\n",
            " 49  t_weapon_mp7                  122410 non-null  float64\n",
            " 50  ct_weapon_mp9                 122410 non-null  float64\n",
            " 51  t_weapon_mp9                  122410 non-null  float64\n",
            " 52  ct_weapon_negev               122410 non-null  float64\n",
            " 53  t_weapon_negev                122410 non-null  float64\n",
            " 54  ct_weapon_nova                122410 non-null  float64\n",
            " 55  t_weapon_nova                 122410 non-null  float64\n",
            " 56  ct_weapon_p90                 122410 non-null  float64\n",
            " 57  t_weapon_p90                  122410 non-null  float64\n",
            " 58  ct_weapon_r8revolver          122410 non-null  float64\n",
            " 59  t_weapon_r8revolver           122410 non-null  float64\n",
            " 60  ct_weapon_sawedoff            122410 non-null  float64\n",
            " 61  t_weapon_sawedoff             122410 non-null  float64\n",
            " 62  ct_weapon_scar20              122410 non-null  float64\n",
            " 63  t_weapon_scar20               122410 non-null  float64\n",
            " 64  ct_weapon_sg553               122410 non-null  float64\n",
            " 65  t_weapon_sg553                122410 non-null  float64\n",
            " 66  ct_weapon_ssg08               122410 non-null  float64\n",
            " 67  t_weapon_ssg08                122410 non-null  float64\n",
            " 68  ct_weapon_ump45               122410 non-null  float64\n",
            " 69  t_weapon_ump45                122410 non-null  float64\n",
            " 70  ct_weapon_xm1014              122410 non-null  float64\n",
            " 71  t_weapon_xm1014               122410 non-null  float64\n",
            " 72  ct_weapon_deagle              122410 non-null  float64\n",
            " 73  t_weapon_deagle               122410 non-null  float64\n",
            " 74  ct_weapon_fiveseven           122410 non-null  float64\n",
            " 75  t_weapon_fiveseven            122410 non-null  float64\n",
            " 76  ct_weapon_usps                122410 non-null  float64\n",
            " 77  t_weapon_usps                 122410 non-null  float64\n",
            " 78  ct_weapon_p250                122410 non-null  float64\n",
            " 79  t_weapon_p250                 122410 non-null  float64\n",
            " 80  ct_weapon_p2000               122410 non-null  float64\n",
            " 81  t_weapon_p2000                122410 non-null  float64\n",
            " 82  ct_weapon_tec9                122410 non-null  float64\n",
            " 83  t_weapon_tec9                 122410 non-null  float64\n",
            " 84  ct_grenade_hegrenade          122410 non-null  float64\n",
            " 85  t_grenade_hegrenade           122410 non-null  float64\n",
            " 86  ct_grenade_flashbang          122410 non-null  float64\n",
            " 87  t_grenade_flashbang           122410 non-null  float64\n",
            " 88  ct_grenade_smokegrenade       122410 non-null  float64\n",
            " 89  t_grenade_smokegrenade        122410 non-null  float64\n",
            " 90  ct_grenade_incendiarygrenade  122410 non-null  float64\n",
            " 91  t_grenade_incendiarygrenade   122410 non-null  float64\n",
            " 92  ct_grenade_molotovgrenade     122410 non-null  float64\n",
            " 93  t_grenade_molotovgrenade      122410 non-null  float64\n",
            " 94  ct_grenade_decoygrenade       122410 non-null  float64\n",
            " 95  t_grenade_decoygrenade        122410 non-null  float64\n",
            "dtypes: float64(94), int16(1), int64(1)\n",
            "memory usage: 89.0 MB\n"
          ]
        }
      ]
    },
    {
      "cell_type": "code",
      "source": [
        "X = pd.DataFrame(data=data_normalize, columns=data_columns)"
      ],
      "metadata": {
        "id": "ofjA5nEszu9-"
      },
      "execution_count": 20,
      "outputs": []
    },
    {
      "cell_type": "code",
      "source": [
        "sns.countplot(y)"
      ],
      "metadata": {
        "id": "EkNRZJPnyJmt",
        "colab": {
          "base_uri": "https://localhost:8080/",
          "height": 297
        },
        "outputId": "07053b5f-8527-499a-e096-e174bb0f07ac"
      },
      "execution_count": 21,
      "outputs": [
        {
          "output_type": "execute_result",
          "data": {
            "text/plain": [
              "<matplotlib.axes._subplots.AxesSubplot at 0x7fb83750e550>"
            ]
          },
          "metadata": {},
          "execution_count": 21
        },
        {
          "output_type": "display_data",
          "data": {
            "text/plain": [
              "<Figure size 432x288 with 1 Axes>"
            ],
            "image/png": "[encoded data removed]"
          },
          "metadata": {
            "needs_background": "light"
          }
        }
      ]
    },
    {
      "cell_type": "markdown",
      "source": [
        "# TESTES DE MELHORES PARÂMETROS:\n",
        "Descobrir os melhores valores para os parâmetros no treinamento da IA. Demora muito tempo para executar, pois faz várias interações testando a cross validation em muitos treinamentos."
      ],
      "metadata": {
        "id": "dTnid3xEQwRN"
      }
    },
    {
      "cell_type": "code",
      "source": [
        "k_score = list()\n",
        "\n",
        "for i in range(1, 11):\n",
        "  rforest = RandomForestClassifier(max_features=i, criterion='gini', random_state=0)\n",
        "  scores = cross_val_score(rforest, X, y, cv=10)\n",
        "  k_score.append(scores.mean())"
      ],
      "metadata": {
        "id": "zcOYBLj51N9q"
      },
      "execution_count": null,
      "outputs": []
    },
    {
      "cell_type": "code",
      "source": [
        "%matplotlib inline\n",
        "plt.plot(range(1, 11), k_score)\n",
        "plt.xlabel('Value of features RFC')\n",
        "plt.ylabel('Cross-Validated-Accuracy')"
      ],
      "metadata": {
        "id": "5Ad5xJaQ-435"
      },
      "execution_count": null,
      "outputs": []
    },
    {
      "cell_type": "code",
      "source": [
        "k_scores = list()\n",
        "for k in range(1, 25):\n",
        "  knn = KNeighborsClassifier(n_neighbors=k)\n",
        "  scores = cross_val_score(knn, X, y, cv=10, scoring='accuracy')\n",
        "  k_scores.append(scores.mean())"
      ],
      "metadata": {
        "id": "GE8lFwiU3ALV"
      },
      "execution_count": null,
      "outputs": []
    },
    {
      "cell_type": "code",
      "source": [
        "%matplotlib inline\n",
        "plt.plot(range(1, 25), k_scores)\n",
        "plt.xlabel('Value of K for KNN')\n",
        "plt.ylabel('Cross-Validated-Accuracy')"
      ],
      "metadata": {
        "id": "oQhO-PrjBC5W"
      },
      "execution_count": null,
      "outputs": []
    },
    {
      "cell_type": "markdown",
      "source": [
        "# RESULTADOS E MÉTRICAS:\n",
        "Todos os resultados para Random Forest e KNN Classifier, além dos gráficos para comparação das métricas."
      ],
      "metadata": {
        "id": "Oc8NXpqsQ9TH"
      }
    },
    {
      "cell_type": "code",
      "source": [
        "scoring = ['precision_macro', 'recall_macro', 'accuracy', 'f1_macro']\n",
        "\n",
        "knn = KNeighborsClassifier(n_neighbors=25)\n",
        "scores = cross_validate(knn, X, y, scoring=scoring, cv=10)\n",
        "\n",
        "sorted(scores.keys())"
      ],
      "metadata": {
        "colab": {
          "base_uri": "https://localhost:8080/"
        },
        "id": "9HCuOiBa-H-W",
        "outputId": "e6732eb7-b230-4caa-d91c-2a02d937e618"
      },
      "execution_count": null,
      "outputs": [
        {
          "output_type": "execute_result",
          "data": {
            "text/plain": [
              "['fit_time',\n",
              " 'score_time',\n",
              " 'test_accuracy',\n",
              " 'test_f1_macro',\n",
              " 'test_precision_macro',\n",
              " 'test_recall_macro']"
            ]
          },
          "metadata": {},
          "execution_count": 183
        }
      ]
    },
    {
      "cell_type": "code",
      "source": [
        "test_precision = list()\n",
        "test_recall = list()\n",
        "test_accuracy = list()\n",
        "test_f1 = list()\n",
        "\n",
        "test_precision = scores['test_precision_macro']\n",
        "test_recal = scores['test_recall_macro']\n",
        "test_acurracy = scores['test_accuracy']\n",
        "test_f1 = scores['test_f1_macro']"
      ],
      "metadata": {
        "id": "liTJNZLNKJ6R"
      },
      "execution_count": null,
      "outputs": []
    },
    {
      "cell_type": "code",
      "source": [
        "test_precision"
      ],
      "metadata": {
        "colab": {
          "base_uri": "https://localhost:8080/"
        },
        "id": "4wlThSCQDLJR",
        "outputId": "21bc1f6f-ddaa-4f9d-c7b9-f3e35f62c411"
      },
      "execution_count": null,
      "outputs": [
        {
          "output_type": "execute_result",
          "data": {
            "text/plain": [
              "array([0.73785442, 0.73783883, 0.74673311, 0.74317594, 0.75233575,\n",
              "       0.74518198, 0.74485124, 0.73947723, 0.73026494, 0.72827792])"
            ]
          },
          "metadata": {},
          "execution_count": 185
        }
      ]
    },
    {
      "cell_type": "code",
      "source": [
        "test_recal"
      ],
      "metadata": {
        "colab": {
          "base_uri": "https://localhost:8080/"
        },
        "id": "a_F2b-ZpDMZF",
        "outputId": "546a1931-b004-4a88-c78b-85e549e6d311"
      },
      "execution_count": null,
      "outputs": [
        {
          "output_type": "execute_result",
          "data": {
            "text/plain": [
              "array([0.73793139, 0.73735599, 0.74672177, 0.74325211, 0.75188433,\n",
              "       0.74517227, 0.7449155 , 0.73932064, 0.72953724, 0.72833351])"
            ]
          },
          "metadata": {},
          "execution_count": 186
        }
      ]
    },
    {
      "cell_type": "code",
      "source": [
        "test_acurracy"
      ],
      "metadata": {
        "colab": {
          "base_uri": "https://localhost:8080/"
        },
        "id": "nXC5K0IuDPA2",
        "outputId": "fd05f691-9d31-4637-b9e8-dfe8f63cf3f5"
      },
      "execution_count": null,
      "outputs": [
        {
          "output_type": "execute_result",
          "data": {
            "text/plain": [
              "array([0.73776652, 0.73678621, 0.74642595, 0.74323993, 0.75132751,\n",
              "       0.74487378, 0.7447104 , 0.73891022, 0.72886202, 0.72812679])"
            ]
          },
          "metadata": {},
          "execution_count": 187
        }
      ]
    },
    {
      "cell_type": "code",
      "source": [
        "test_f1"
      ],
      "metadata": {
        "colab": {
          "base_uri": "https://localhost:8080/"
        },
        "id": "EsJ3BJoeKOOF",
        "outputId": "ebf6eef5-6f0e-4f1d-d24f-45532deac60b"
      },
      "execution_count": null,
      "outputs": [
        {
          "output_type": "execute_result",
          "data": {
            "text/plain": [
              "array([0.7377572 , 0.73672865, 0.74642586, 0.7431904 , 0.75128232,\n",
              "       0.74487372, 0.74470579, 0.73889989, 0.72875425, 0.72812278])"
            ]
          },
          "metadata": {},
          "execution_count": 188
        }
      ]
    },
    {
      "cell_type": "code",
      "source": [
        "# Calular média, máximo, desvio padrão\n",
        "precision = [0.73785442, 0.73783883, 0.74673311, 0.74317594, 0.75233575, 0.74518198, 0.74485124, 0.73947723, 0.73026494, 0.72827792]\n",
        "recall = [0.73793139, 0.73735599, 0.74672177, 0.74325211, 0.75188433, 0.74517227, 0.7449155 , 0.73932064, 0.72953724, 0.72833351]\n",
        "acurracy = [0.73776652, 0.73678621, 0.74642595, 0.74323993, 0.75132751, 0.74487378, 0.7447104 , 0.73891022, 0.72886202, 0.72812679]\n",
        "f1 = [0.7377572 , 0.73672865, 0.74642586, 0.7431904 , 0.75128232, 0.74487372, 0.74470579, 0.73889989, 0.72875425, 0.72812278]\n",
        "\n",
        "print('PRECISION:')\n",
        "print('Média: ' + str(np.average(precision)))\n",
        "print('Desvio padrão: ' + str(np.std(precision)))\n",
        "print('Variância: ' + str(np.var(precision)))\n",
        "print('Valor máximo: ' + str(max(precision)))\n",
        "print('Valor mínimo: ' + str(min(precision)))\n",
        "\n",
        "print('RECALL:')\n",
        "print('Média: ' + str(np.average(recall)))\n",
        "print('Desvio padrão: ' + str(np.std(recall)))\n",
        "print('Variância: ' + str(np.var(recall)))\n",
        "print('Valor máximo: ' + str(max(recall)))\n",
        "print('Valor mínimo: ' + str(min(recall)))\n",
        "\n",
        "print('ACURRACY:')\n",
        "print('Média: ' + str(np.average(acurracy)))\n",
        "print('Desvio padrão: ' + str(np.std(acurracy)))\n",
        "print('Variância: ' + str(np.var(acurracy)))\n",
        "print('Valor máximo: ' + str(max(acurracy)))\n",
        "print('Valor mínimo: ' + str(min(acurracy)))\n",
        "\n",
        "print('F1:')\n",
        "print('Média: ' + str(np.average(f1)))\n",
        "print('Desvio padrão: ' + str(np.std(f1)))\n",
        "print('Variância: ' + str(np.var(f1)))\n",
        "print('Valor máximo: ' + str(max(f1)))\n",
        "print('Valor mínimo: ' + str(min(f1)))"
      ],
      "metadata": {
        "colab": {
          "base_uri": "https://localhost:8080/"
        },
        "id": "FigLstmHQqTj",
        "outputId": "a6a7d755-2a54-4aa8-fde2-4350abb00d06"
      },
      "execution_count": 23,
      "outputs": [
        {
          "output_type": "stream",
          "name": "stdout",
          "text": [
            "PRECISION:\n",
            "Média: 0.7405991359999999\n",
            "Desvio padrão: 0.007043549605983049\n",
            "Variância: 4.961159105194397e-05\n",
            "Valor máximo: 0.75233575\n",
            "Valor mínimo: 0.72827792\n",
            "RECALL:\n",
            "Média: 0.7404424749999999\n",
            "Desvio padrão: 0.007094083371655912\n",
            "Variância: 5.0326018884004914e-05\n",
            "Valor máximo: 0.75188433\n",
            "Valor mínimo: 0.72833351\n",
            "ACURRACY:\n",
            "Média: 0.740102933\n",
            "Desvio padrão: 0.0071236951362225595\n",
            "Variância: 5.0747032393840954e-05\n",
            "Valor máximo: 0.75132751\n",
            "Valor mínimo: 0.72812679\n",
            "F1:\n",
            "Média: 0.7400740859999999\n",
            "Desvio padrão: 0.00713499239632418\n",
            "Variância: 5.090811649560386e-05\n",
            "Valor máximo: 0.75128232\n",
            "Valor mínimo: 0.72812278\n"
          ]
        }
      ]
    },
    {
      "cell_type": "code",
      "source": [
        "%matplotlib inline\n",
        "plt.figure(figsize=(20, 15))\n",
        "plt.plot(test_recal, label = 'recall')\n",
        "plt.plot(test_precision, label = 'precision')\n",
        "plt.plot(test_acurracy, label = 'acurracy')\n",
        "plt.plot(test_f1, label = 'f1-score')\n",
        "\n",
        "plt.xlabel('K-Folds')\n",
        "plt.ylabel('Porcentagem métricas')\n",
        "plt.title('Métricas Cross Validation - KNN Classifier')\n",
        "\n",
        "plt.legend()\n",
        "\n",
        "plt.show()"
      ],
      "metadata": {
        "colab": {
          "base_uri": "https://localhost:8080/",
          "height": 916
        },
        "id": "pOqy2KegARqo",
        "outputId": "f0dbd4a5-efcc-4db4-a19d-475e64d57711"
      },
      "execution_count": null,
      "outputs": [
        {
          "output_type": "display_data",
          "data": {
            "text/plain": [
              "<Figure size 1440x1080 with 1 Axes>"
            ],
            "image/png": "[encoded data removed]"
          },
          "metadata": {
            "needs_background": "light"
          }
        }
      ]
    },
    {
      "cell_type": "code",
      "source": [
        "scoring = ['precision_macro', 'recall_macro', 'accuracy', 'f1_macro']\n",
        "\n",
        "rforest = RandomForestClassifier(max_features=7, criterion='gini', random_state=0)\n",
        "scores = cross_validate(rforest, X, y, scoring=scoring, cv=10)\n",
        "\n",
        "sorted(scores.keys())"
      ],
      "metadata": {
        "colab": {
          "base_uri": "https://localhost:8080/"
        },
        "id": "KqtaEqWBDfXw",
        "outputId": "4aab1469-693d-4022-9331-b65a212598e9"
      },
      "execution_count": null,
      "outputs": [
        {
          "output_type": "execute_result",
          "data": {
            "text/plain": [
              "['fit_time',\n",
              " 'score_time',\n",
              " 'test_accuracy',\n",
              " 'test_f1_macro',\n",
              " 'test_precision_macro',\n",
              " 'test_recall_macro']"
            ]
          },
          "metadata": {},
          "execution_count": 190
        }
      ]
    },
    {
      "cell_type": "code",
      "source": [
        "\n",
        "test_precision = list()\n",
        "test_recall = list()\n",
        "test_accuracy = list()\n",
        "test_f1 = list()\n",
        "\n",
        "test_precision = scores['test_precision_macro']\n",
        "test_recal = scores['test_recall_macro']\n",
        "test_acurracy = scores['test_accuracy']\n",
        "test_f1 = scores['test_f1_macro']"
      ],
      "metadata": {
        "id": "RDwbflTjKIZI"
      },
      "execution_count": null,
      "outputs": []
    },
    {
      "cell_type": "code",
      "source": [
        "test_precision"
      ],
      "metadata": {
        "colab": {
          "base_uri": "https://localhost:8080/"
        },
        "id": "xz43tEaKDkfS",
        "outputId": "31894310-b00f-4cce-9728-02e8ed723efd"
      },
      "execution_count": null,
      "outputs": [
        {
          "output_type": "execute_result",
          "data": {
            "text/plain": [
              "array([0.75363808, 0.74544944, 0.75773578, 0.75106354, 0.76083185,\n",
              "       0.75448923, 0.75431941, 0.74397469, 0.73474301, 0.74632447])"
            ]
          },
          "metadata": {},
          "execution_count": 192
        }
      ]
    },
    {
      "cell_type": "code",
      "source": [
        "test_recal"
      ],
      "metadata": {
        "colab": {
          "base_uri": "https://localhost:8080/"
        },
        "id": "wRVZTxalDlU7",
        "outputId": "ee590a45-f0ce-46de-dbdb-5032ceea4fac"
      },
      "execution_count": null,
      "outputs": [
        {
          "output_type": "execute_result",
          "data": {
            "text/plain": [
              "array([0.75364755, 0.7450125 , 0.75765007, 0.75115823, 0.7604924 ,\n",
              "       0.75458117, 0.75427425, 0.74365719, 0.73390242, 0.74607352])"
            ]
          },
          "metadata": {},
          "execution_count": 193
        }
      ]
    },
    {
      "cell_type": "code",
      "source": [
        "test_acurracy"
      ],
      "metadata": {
        "colab": {
          "base_uri": "https://localhost:8080/"
        },
        "id": "sj2o9-M0DmQK",
        "outputId": "abcd9676-d712-4590-f054-0458799b50a0"
      },
      "execution_count": null,
      "outputs": [
        {
          "output_type": "execute_result",
          "data": {
            "text/plain": [
              "array([0.75336982, 0.74446532, 0.75729107, 0.75108243, 0.75998693,\n",
              "       0.75443183, 0.75394167, 0.74315824, 0.73319173, 0.74560902])"
            ]
          },
          "metadata": {},
          "execution_count": 194
        }
      ]
    },
    {
      "cell_type": "code",
      "source": [
        "test_f1"
      ],
      "metadata": {
        "colab": {
          "base_uri": "https://localhost:8080/"
        },
        "id": "kNguQg_0KSob",
        "outputId": "77dcd1e8-3a86-4755-fa99-1d744f6f7b86"
      },
      "execution_count": null,
      "outputs": [
        {
          "output_type": "execute_result",
          "data": {
            "text/plain": [
              "array([0.75336976, 0.74441888, 0.75728794, 0.75105348, 0.75995944,\n",
              "       0.75441885, 0.75394065, 0.74312882, 0.73306663, 0.74558885])"
            ]
          },
          "metadata": {},
          "execution_count": 195
        }
      ]
    },
    {
      "cell_type": "code",
      "source": [
        "# Calular média, máximo, desvio padrão\n",
        "precision = [0.75363808, 0.74544944, 0.75773578, 0.75106354, 0.76083185, 0.75448923, 0.75431941, 0.74397469, 0.73474301, 0.74632447]\n",
        "recall = [0.75364755, 0.7450125 , 0.75765007, 0.75115823, 0.7604924 , 0.75458117, 0.75427425, 0.74365719, 0.73390242, 0.74607352]\n",
        "acurracy = [0.75336982, 0.74446532, 0.75729107, 0.75108243, 0.75998693, 0.75443183, 0.75394167, 0.74315824, 0.73319173, 0.74560902]\n",
        "f1 = [0.75336976, 0.74441888, 0.75728794, 0.75105348, 0.75995944, 0.75441885, 0.75394065, 0.74312882, 0.73306663, 0.74558885]\n",
        "\n",
        "print('PRECISION:')\n",
        "print('Média: ' + str(np.average(precision)))\n",
        "print('Desvio padrão: ' + str(np.std(precision)))\n",
        "print('Variância: ' + str(np.var(precision)))\n",
        "print('Valor máximo: ' + str(max(precision)))\n",
        "print('Valor mínimo: ' + str(min(precision)))\n",
        "\n",
        "print('RECALL:')\n",
        "print('Média: ' + str(np.average(recall)))\n",
        "print('Desvio padrão: ' + str(np.std(recall)))\n",
        "print('Variância: ' + str(np.var(recall)))\n",
        "print('Valor máximo: ' + str(max(recall)))\n",
        "print('Valor mínimo: ' + str(min(recall)))\n",
        "\n",
        "print('ACURRACY:')\n",
        "print('Média: ' + str(np.average(acurracy)))\n",
        "print('Desvio padrão: ' + str(np.std(acurracy)))\n",
        "print('Variância: ' + str(np.var(acurracy)))\n",
        "print('Valor máximo: ' + str(max(acurracy)))\n",
        "print('Valor mínimo: ' + str(min(acurracy)))\n",
        "\n",
        "print('F1:')\n",
        "print('Média: ' + str(np.average(f1)))\n",
        "print('Desvio padrão: ' + str(np.std(f1)))\n",
        "print('Variância: ' + str(np.var(f1)))\n",
        "print('Valor máximo: ' + str(max(f1)))\n",
        "print('Valor mínimo: ' + str(min(f1)))"
      ],
      "metadata": {
        "colab": {
          "base_uri": "https://localhost:8080/"
        },
        "id": "71nyskTaSvtU",
        "outputId": "86c17bf7-a044-4b81-815a-358a94aa447a"
      },
      "execution_count": 24,
      "outputs": [
        {
          "output_type": "stream",
          "name": "stdout",
          "text": [
            "PRECISION:\n",
            "Média: 0.75025695\n",
            "Desvio padrão: 0.007300585506078257\n",
            "Variância: 5.3298548731559916e-05\n",
            "Valor máximo: 0.76083185\n",
            "Valor mínimo: 0.73474301\n",
            "RECALL:\n",
            "Média: 0.7500449299999999\n",
            "Desvio padrão: 0.007497679728259924\n",
            "Variância: 5.6215201307559804e-05\n",
            "Valor máximo: 0.7604924\n",
            "Valor mínimo: 0.73390242\n",
            "ACURRACY:\n",
            "Média: 0.749652806\n",
            "Desvio padrão: 0.007606834198678434\n",
            "Variância: 5.786392652618377e-05\n",
            "Valor máximo: 0.75998693\n",
            "Valor mínimo: 0.73319173\n",
            "F1:\n",
            "Média: 0.74962333\n",
            "Desvio padrão: 0.007635214803182676\n",
            "Variância: 5.829650509073987e-05\n",
            "Valor máximo: 0.75995944\n",
            "Valor mínimo: 0.73306663\n"
          ]
        }
      ]
    },
    {
      "cell_type": "code",
      "source": [
        "%matplotlib inline\n",
        "plt.figure(figsize=(20, 15))\n",
        "plt.plot(test_recal, label = 'recall')\n",
        "plt.plot(test_precision, label = 'precision')\n",
        "plt.plot(test_acurracy, label = 'acurracy')\n",
        "plt.plot(test_f1, label = 'f1-score')\n",
        "\n",
        "plt.xlabel('K-Folds')\n",
        "plt.ylabel('Porcentagem métricas')\n",
        "plt.title('Métricas Cross Validation - Random Forest')\n",
        "\n",
        "plt.legend()\n",
        "\n",
        "plt.show()"
      ],
      "metadata": {
        "colab": {
          "base_uri": "https://localhost:8080/",
          "height": 916
        },
        "id": "o5B9u1rDDnSw",
        "outputId": "3fe80d26-6bf2-439e-fd26-c4c1b7d4865a"
      },
      "execution_count": null,
      "outputs": [
        {
          "output_type": "display_data",
          "data": {
            "text/plain": [
              "<Figure size 1440x1080 with 1 Axes>"
            ],
            "image/png": "[encoded data removed]"
          },
          "metadata": {
            "needs_background": "light"
          }
        }
      ]
    },
    {
      "cell_type": "markdown",
      "source": [
        "# TESTE PARA VERIFICAR AS MÉTRICAS DA CROSS VALIDATION:\n",
        "Foi feita o train split para apenas ver se as métricas estavam andando muito em conjunto, como mostrado no gráfico."
      ],
      "metadata": {
        "id": "WSTmnjEERKLI"
      }
    },
    {
      "cell_type": "code",
      "source": [
        "# Teste para ver se as métricas estão corretas\n",
        "X_train, X_test, y_train, y_test = train_test_split(X, y, test_size=0.30, random_state=0)"
      ],
      "metadata": {
        "id": "rtfhImFuNgTM"
      },
      "execution_count": null,
      "outputs": []
    },
    {
      "cell_type": "code",
      "source": [
        "rforest = RandomForestClassifier(max_features=7, criterion='gini', random_state=0)\n",
        "rforest.fit(X_train, y_train)"
      ],
      "metadata": {
        "colab": {
          "base_uri": "https://localhost:8080/"
        },
        "id": "B_IWMGXVNsgG",
        "outputId": "297895df-e5bd-4a31-df48-d4d496901bd9"
      },
      "execution_count": null,
      "outputs": [
        {
          "output_type": "execute_result",
          "data": {
            "text/plain": [
              "RandomForestClassifier(max_features=7, random_state=0)"
            ]
          },
          "metadata": {},
          "execution_count": 198
        }
      ]
    },
    {
      "cell_type": "code",
      "source": [
        "# Mostrar métricas\n",
        "print(\"Accuracy score = \", accuracy_score(y_test, rforest.predict(X_test)))\n",
        "print(classification_report(y_test, rforest.predict(X_test)))"
      ],
      "metadata": {
        "colab": {
          "base_uri": "https://localhost:8080/"
        },
        "id": "hUJqBHRPNq3Y",
        "outputId": "194e8da7-1a55-4a58-f090-8d26b9187e23"
      },
      "execution_count": null,
      "outputs": [
        {
          "output_type": "stream",
          "name": "stdout",
          "text": [
            "Accuracy score =  0.869264493641587\n",
            "              precision    recall  f1-score   support\n",
            "\n",
            "           0       0.86      0.88      0.87     17978\n",
            "           1       0.88      0.86      0.87     18745\n",
            "\n",
            "    accuracy                           0.87     36723\n",
            "   macro avg       0.87      0.87      0.87     36723\n",
            "weighted avg       0.87      0.87      0.87     36723\n",
            "\n"
          ]
        }
      ]
    },
    {
      "cell_type": "code",
      "source": [
        "knn = KNeighborsClassifier(n_neighbors=25)\n",
        "knn.fit(X_train, y_train)"
      ],
      "metadata": {
        "colab": {
          "base_uri": "https://localhost:8080/"
        },
        "id": "hya6lwjhORJg",
        "outputId": "d8a06957-25d7-4a07-b98b-5c4ed0e16582"
      },
      "execution_count": null,
      "outputs": [
        {
          "output_type": "execute_result",
          "data": {
            "text/plain": [
              "KNeighborsClassifier(n_neighbors=25)"
            ]
          },
          "metadata": {},
          "execution_count": 200
        }
      ]
    },
    {
      "cell_type": "code",
      "source": [
        "# Mostrar métricas\n",
        "print(\"Accuracy score = \", accuracy_score(y_test, knn.predict(X_test)))\n",
        "print(classification_report(y_test, knn.predict(X_test)))"
      ],
      "metadata": {
        "colab": {
          "base_uri": "https://localhost:8080/"
        },
        "id": "TSH9CN3POSU1",
        "outputId": "fe849b03-0d9e-440c-f473-328023f3a792"
      },
      "execution_count": null,
      "outputs": [
        {
          "output_type": "stream",
          "name": "stdout",
          "text": [
            "Accuracy score =  0.7762437709337472\n",
            "              precision    recall  f1-score   support\n",
            "\n",
            "           0       0.76      0.79      0.78     17978\n",
            "           1       0.79      0.76      0.78     18745\n",
            "\n",
            "    accuracy                           0.78     36723\n",
            "   macro avg       0.78      0.78      0.78     36723\n",
            "weighted avg       0.78      0.78      0.78     36723\n",
            "\n"
          ]
        }
      ]
    }
  ]
}